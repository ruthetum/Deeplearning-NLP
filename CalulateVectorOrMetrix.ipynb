{
  "nbformat": 4,
  "nbformat_minor": 0,
  "metadata": {
    "colab": {
      "name": "CalulateVertorOrMetrix.ipynb",
      "provenance": [],
      "authorship_tag": "ABX9TyP3KI+1E5E5+RyVb68g8hzk",
      "include_colab_link": true
    },
    "kernelspec": {
      "name": "python3",
      "display_name": "Python 3"
    }
  },
  "cells": [
    {
      "cell_type": "markdown",
      "metadata": {
        "id": "view-in-github",
        "colab_type": "text"
      },
      "source": [
        "<a href=\"https://colab.research.google.com/github/ruthetum/Deeplearning-NLP/blob/master/CalulateVectorOrMetrix.ipynb\" target=\"_parent\"><img src=\"https://colab.research.google.com/assets/colab-badge.svg\" alt=\"Open In Colab\"/></a>"
      ]
    },
    {
      "cell_type": "markdown",
      "metadata": {
        "id": "p3OHty2D11XY",
        "colab_type": "text"
      },
      "source": [
        "# 벡터와 행렬의 연산"
      ]
    },
    {
      "cell_type": "code",
      "metadata": {
        "id": "F9gywuBU10wy",
        "colab_type": "code",
        "colab": {
          "base_uri": "https://localhost:8080/",
          "height": 55
        },
        "outputId": "4acdccae-6170-4285-def0-ab4015897313"
      },
      "source": [
        "import numpy as np\n",
        "\n",
        "a = np.array([8, 4, 5])\n",
        "b = np.array([1, 2, 3])\n",
        "print(a+b)\n",
        "print(a-b)"
      ],
      "execution_count": 1,
      "outputs": [
        {
          "output_type": "stream",
          "text": [
            "[9 6 8]\n",
            "[7 2 2]\n"
          ],
          "name": "stdout"
        }
      ]
    },
    {
      "cell_type": "code",
      "metadata": {
        "id": "zGkMDlWi2be3",
        "colab_type": "code",
        "colab": {
          "base_uri": "https://localhost:8080/",
          "height": 36
        },
        "outputId": "767d98b9-c86c-4d9a-c8f3-b1c3ae75e676"
      },
      "source": [
        "a = np.array([1, 2, 3])\n",
        "b = np.array([4, 5, 6])\n",
        "print(np.dot(a,b))"
      ],
      "execution_count": 2,
      "outputs": [
        {
          "output_type": "stream",
          "text": [
            "32\n"
          ],
          "name": "stdout"
        }
      ]
    },
    {
      "cell_type": "code",
      "metadata": {
        "id": "pmE-RULw2eq2",
        "colab_type": "code",
        "colab": {
          "base_uri": "https://localhost:8080/",
          "height": 55
        },
        "outputId": "f5f2c04d-a667-4be4-d7e0-c332d94403f1"
      },
      "source": [
        "a = np.array([[1, 3],[2, 4]])\n",
        "b = np.array([[5, 7],[6, 8]])\n",
        "print(np.matmul(a,b))"
      ],
      "execution_count": 3,
      "outputs": [
        {
          "output_type": "stream",
          "text": [
            "[[23 31]\n",
            " [34 46]]\n"
          ],
          "name": "stdout"
        }
      ]
    }
  ]
}