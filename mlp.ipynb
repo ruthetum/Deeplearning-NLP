{
  "nbformat": 4,
  "nbformat_minor": 0,
  "metadata": {
    "colab": {
      "name": "mlp.ipynb",
      "provenance": [],
      "collapsed_sections": [],
      "authorship_tag": "ABX9TyPUQkjDVZU4V8qMYpmZEkZg",
      "include_colab_link": true
    },
    "kernelspec": {
      "name": "python3",
      "display_name": "Python 3"
    }
  },
  "cells": [
    {
      "cell_type": "markdown",
      "metadata": {
        "id": "view-in-github",
        "colab_type": "text"
      },
      "source": [
        "<a href=\"https://colab.research.google.com/github/ruthetum/Deeplearning-NLP/blob/master/mlp.ipynb\" target=\"_parent\"><img src=\"https://colab.research.google.com/assets/colab-badge.svg\" alt=\"Open In Colab\"/></a>"
      ]
    },
    {
      "cell_type": "markdown",
      "metadata": {
        "id": "K0dPpV4kqP-v",
        "colab_type": "text"
      },
      "source": [
        "# 다층 퍼셉트론(Multilayer Perceptron, MLP)으로 텍스트 분류하기"
      ]
    },
    {
      "cell_type": "code",
      "metadata": {
        "id": "HuNOf1e5rxkM",
        "colab_type": "code",
        "colab": {
          "base_uri": "https://localhost:8080/",
          "height": 104
        },
        "outputId": "f7786724-da44-4a3b-ff0b-43f49e601ce4"
      },
      "source": [
        "%tensorflow_version 2.x\n",
        "\n",
        "import tensorflow as tf\n",
        "\n",
        "print('version : ', tf.__version__)\n",
        "print('GPU Available : ', tf.test.is_gpu_available())"
      ],
      "execution_count": 1,
      "outputs": [
        {
          "output_type": "stream",
          "text": [
            "version :  2.2.0-rc1\n",
            "WARNING:tensorflow:From <ipython-input-1-a840f7824ccb>:6: is_gpu_available (from tensorflow.python.framework.test_util) is deprecated and will be removed in a future version.\n",
            "Instructions for updating:\n",
            "Use `tf.config.list_physical_devices('GPU')` instead.\n",
            "GPU Available :  False\n"
          ],
          "name": "stdout"
        }
      ]
    },
    {
      "cell_type": "code",
      "metadata": {
        "id": "5clFL85Kr_IC",
        "colab_type": "code",
        "colab": {
          "base_uri": "https://localhost:8080/",
          "height": 34
        },
        "outputId": "aa471a54-21e2-4ffe-8444-367c135b73f0"
      },
      "source": [
        "import numpy as np\n",
        "from tensorflow.keras.preprocessing.text import Tokenizer\n",
        "\n",
        "texts = ['먹고 싶은 사과', '먹고 싶은 바나나', '길고 노란 바나나 바나나', '저는 과일이 좋아요']\n",
        "\n",
        "t = Tokenizer()\n",
        "t.fit_on_texts(texts)\n",
        "print(t.word_index)"
      ],
      "execution_count": 2,
      "outputs": [
        {
          "output_type": "stream",
          "text": [
            "{'바나나': 1, '먹고': 2, '싶은': 3, '사과': 4, '길고': 5, '노란': 6, '저는': 7, '과일이': 8, '좋아요': 9}\n"
          ],
          "name": "stdout"
        }
      ]
    },
    {
      "cell_type": "markdown",
      "metadata": {
        "id": "soUSZzeOtMZG",
        "colab_type": "text"
      },
      "source": [
        "# texts_to_metrix에는 4가지 모드가 존재\n",
        "# 단어 순서는 보존하지 않음\n",
        "\n",
        "# 1) count : 단어 횟수 그대로"
      ]
    },
    {
      "cell_type": "code",
      "metadata": {
        "id": "UpdReWKSthPc",
        "colab_type": "code",
        "colab": {
          "base_uri": "https://localhost:8080/",
          "height": 87
        },
        "outputId": "c42ba553-15c6-471f-ac28-f8d7a7c448d6"
      },
      "source": [
        "print(t.texts_to_matrix(texts, mode = 'count'))"
      ],
      "execution_count": 3,
      "outputs": [
        {
          "output_type": "stream",
          "text": [
            "[[0. 0. 1. 1. 1. 0. 0. 0. 0. 0.]\n",
            " [0. 1. 1. 1. 0. 0. 0. 0. 0. 0.]\n",
            " [0. 2. 0. 0. 0. 1. 1. 0. 0. 0.]\n",
            " [0. 0. 0. 0. 0. 0. 0. 1. 1. 1.]]\n"
          ],
          "name": "stdout"
        }
      ]
    },
    {
      "cell_type": "markdown",
      "metadata": {
        "id": "iyjKe25Xt55n",
        "colab_type": "text"
      },
      "source": [
        "# 2) binary : 중복은 제외, 단어의 존재 유무만 판단"
      ]
    },
    {
      "cell_type": "code",
      "metadata": {
        "id": "7ndPgpiLt1hA",
        "colab_type": "code",
        "colab": {
          "base_uri": "https://localhost:8080/",
          "height": 87
        },
        "outputId": "a59a601a-9154-4f73-8a96-4eaf642c66e0"
      },
      "source": [
        "print(t.texts_to_matrix(texts, mode = 'binary'))"
      ],
      "execution_count": 4,
      "outputs": [
        {
          "output_type": "stream",
          "text": [
            "[[0. 0. 1. 1. 1. 0. 0. 0. 0. 0.]\n",
            " [0. 1. 1. 1. 0. 0. 0. 0. 0. 0.]\n",
            " [0. 1. 0. 0. 0. 1. 1. 0. 0. 0.]\n",
            " [0. 0. 0. 0. 0. 0. 0. 1. 1. 1.]]\n"
          ],
          "name": "stdout"
        }
      ]
    },
    {
      "cell_type": "markdown",
      "metadata": {
        "id": "VjUg2jc4t49p",
        "colab_type": "text"
      },
      "source": [
        "# 3) tdidf : TF-IDF 행렬 만듦"
      ]
    },
    {
      "cell_type": "code",
      "metadata": {
        "id": "NUIHnL70t7A8",
        "colab_type": "code",
        "colab": {
          "base_uri": "https://localhost:8080/",
          "height": 87
        },
        "outputId": "90060f01-c6eb-4c73-9825-037b0e21c404"
      },
      "source": [
        "print(t.texts_to_matrix(texts, mode = 'tfidf').round(2)) # 둘째 자리까지 반올림하여 출력"
      ],
      "execution_count": 5,
      "outputs": [
        {
          "output_type": "stream",
          "text": [
            "[[0.   0.   0.85 0.85 1.1  0.   0.   0.   0.   0.  ]\n",
            " [0.   0.85 0.85 0.85 0.   0.   0.   0.   0.   0.  ]\n",
            " [0.   1.43 0.   0.   0.   1.1  1.1  0.   0.   0.  ]\n",
            " [0.   0.   0.   0.   0.   0.   0.   1.1  1.1  1.1 ]]\n"
          ],
          "name": "stdout"
        }
      ]
    },
    {
      "cell_type": "markdown",
      "metadata": {
        "id": "SqnKIpnQt7HS",
        "colab_type": "text"
      },
      "source": [
        "# 4) freq : 각 문서에서 각 단어의 빈도\n",
        "\n",
        "Ex. 3번째 문장의 '길고 노란 바나나 바나나'\n",
        "\n",
        "문서의 크기 : 4 , 바나나의 빈도 : 2\n",
        "\n",
        "-> 0.5"
      ]
    },
    {
      "cell_type": "code",
      "metadata": {
        "id": "C78K9S02t7Ol",
        "colab_type": "code",
        "colab": {
          "base_uri": "https://localhost:8080/",
          "height": 87
        },
        "outputId": "618cb27e-d67d-47a9-c73c-5b5c1c6ec35a"
      },
      "source": [
        "print(t.texts_to_matrix(texts, mode = 'freq').round(2)) # 둘째 자리까지 반올림하여 출력"
      ],
      "execution_count": 6,
      "outputs": [
        {
          "output_type": "stream",
          "text": [
            "[[0.   0.   0.33 0.33 0.33 0.   0.   0.   0.   0.  ]\n",
            " [0.   0.33 0.33 0.33 0.   0.   0.   0.   0.   0.  ]\n",
            " [0.   0.5  0.   0.   0.   0.25 0.25 0.   0.   0.  ]\n",
            " [0.   0.   0.   0.   0.   0.   0.   0.33 0.33 0.33]]\n"
          ],
          "name": "stdout"
        }
      ]
    },
    {
      "cell_type": "markdown",
      "metadata": {
        "id": "ViySwepXt7Ur",
        "colab_type": "text"
      },
      "source": [
        "# 20개 뉴스 그룹 데이터에 대한 이해"
      ]
    },
    {
      "cell_type": "code",
      "metadata": {
        "id": "_Mj74h7Kt7aB",
        "colab_type": "code",
        "colab": {
          "base_uri": "https://localhost:8080/",
          "height": 52
        },
        "outputId": "77904133-9d9b-4138-bb79-268b1ccb6455"
      },
      "source": [
        "import pandas as pd\n",
        "from sklearn.datasets import fetch_20newsgroups\n",
        "%matplotlib inline\n",
        "import matplotlib.pyplot as plt\n",
        "from tensorflow.keras.preprocessing.text import Tokenizer\n",
        "from tensorflow.keras.utils import to_categorical\n",
        "\n",
        "# 사이킷런에서 뉴스 그룹 데이터 제공\n",
        "newsdata = fetch_20newsgroups(subset = 'train') # 'train'을 기재하면 훈련 데이터만 리턴, all을 넣으면 전체 데이터 다운로드 가능"
      ],
      "execution_count": 7,
      "outputs": [
        {
          "output_type": "stream",
          "text": [
            "Downloading 20news dataset. This may take a few minutes.\n",
            "Downloading dataset from https://ndownloader.figshare.com/files/5975967 (14 MB)\n"
          ],
          "name": "stderr"
        }
      ]
    },
    {
      "cell_type": "code",
      "metadata": {
        "id": "zDBUskHQu4up",
        "colab_type": "code",
        "colab": {
          "base_uri": "https://localhost:8080/",
          "height": 34
        },
        "outputId": "6845b3f8-ceb3-49b5-c03c-c02b6b6ad4e6"
      },
      "source": [
        "# 속성 확인\n",
        "print(newsdata.keys())"
      ],
      "execution_count": 9,
      "outputs": [
        {
          "output_type": "stream",
          "text": [
            "dict_keys(['data', 'filenames', 'target_names', 'target', 'DESCR'])\n"
          ],
          "name": "stdout"
        }
      ]
    },
    {
      "cell_type": "code",
      "metadata": {
        "id": "2qsxqlfhvFkz",
        "colab_type": "code",
        "colab": {
          "base_uri": "https://localhost:8080/",
          "height": 34
        },
        "outputId": "a1122f1a-b9a8-4a2c-e227-3cf59be77474"
      },
      "source": [
        "# 우리가 사용할 속성은 data(이메일 본문), target(메일이 어떤 주제인지 적힌 숫자 레이블)\n",
        "print('훈련용 샘플의 개수 : {}'.format(len(newsdata.data)))"
      ],
      "execution_count": 10,
      "outputs": [
        {
          "output_type": "stream",
          "text": [
            "훈련용 샘플의 개수 : 11314\n"
          ],
          "name": "stdout"
        }
      ]
    },
    {
      "cell_type": "code",
      "metadata": {
        "id": "3DwdLZI0vV4g",
        "colab_type": "code",
        "colab": {
          "base_uri": "https://localhost:8080/",
          "height": 72
        },
        "outputId": "54bf7205-3106-497b-a937-913c461dd3ed"
      },
      "source": [
        "print('총 주제의 개수 : {}'.format(len(newsdata.target_names)))\n",
        "print(newsdata.target_names)"
      ],
      "execution_count": 11,
      "outputs": [
        {
          "output_type": "stream",
          "text": [
            "총 주제의 개수 : 20\n",
            "['alt.atheism', 'comp.graphics', 'comp.os.ms-windows.misc', 'comp.sys.ibm.pc.hardware', 'comp.sys.mac.hardware', 'comp.windows.x', 'misc.forsale', 'rec.autos', 'rec.motorcycles', 'rec.sport.baseball', 'rec.sport.hockey', 'sci.crypt', 'sci.electronics', 'sci.med', 'sci.space', 'soc.religion.christian', 'talk.politics.guns', 'talk.politics.mideast', 'talk.politics.misc', 'talk.religion.misc']\n"
          ],
          "name": "stdout"
        }
      ]
    },
    {
      "cell_type": "code",
      "metadata": {
        "id": "_mSzERgSvoZi",
        "colab_type": "code",
        "colab": {
          "base_uri": "https://localhost:8080/",
          "height": 472
        },
        "outputId": "e2665918-d141-4ac3-9dd4-df91d8784316"
      },
      "source": [
        "print('첫번째 샘플의 레이블 : {}\\n'.format(newsdata.target[0]))\n",
        "print('7번 레이블이 의미하는 주제 : {}\\n'.format(newsdata.target_names[7]))\n",
        "print(newsdata.data[0])"
      ],
      "execution_count": 13,
      "outputs": [
        {
          "output_type": "stream",
          "text": [
            "첫번째 샘플의 레이블 : 7\n",
            "\n",
            "7번 레이블이 의미하는 주제 : rec.autos\n",
            "\n",
            "From: lerxst@wam.umd.edu (where's my thing)\n",
            "Subject: WHAT car is this!?\n",
            "Nntp-Posting-Host: rac3.wam.umd.edu\n",
            "Organization: University of Maryland, College Park\n",
            "Lines: 15\n",
            "\n",
            " I was wondering if anyone out there could enlighten me on this car I saw\n",
            "the other day. It was a 2-door sports car, looked to be from the late 60s/\n",
            "early 70s. It was called a Bricklin. The doors were really small. In addition,\n",
            "the front bumper was separate from the rest of the body. This is \n",
            "all I know. If anyone can tellme a model name, engine specs, years\n",
            "of production, where this car is made, history, or whatever info you\n",
            "have on this funky looking car, please e-mail.\n",
            "\n",
            "Thanks,\n",
            "- IL\n",
            "   ---- brought to you by your neighborhood Lerxst ----\n",
            "\n",
            "\n",
            "\n",
            "\n",
            "\n"
          ],
          "name": "stdout"
        }
      ]
    },
    {
      "cell_type": "markdown",
      "metadata": {
        "id": "SrFf47EUv5m8",
        "colab_type": "text"
      },
      "source": [
        "20개의 주제 중 7번 주제\n",
        "\n",
        "7번에 해당하는 주제는 rec.autos\n",
        "\n",
        "내용 출력 결과"
      ]
    },
    {
      "cell_type": "code",
      "metadata": {
        "id": "qcWifSO3wWcS",
        "colab_type": "code",
        "colab": {
          "base_uri": "https://localhost:8080/",
          "height": 197
        },
        "outputId": "e237974b-5f28-4f26-e9ff-908fedac7c6b"
      },
      "source": [
        "data = pd.DataFrame(newsdata.data, columns = ['email'])\n",
        "data['target'] = pd.Series(newsdata.target)\n",
        "data[:5]"
      ],
      "execution_count": 14,
      "outputs": [
        {
          "output_type": "execute_result",
          "data": {
            "text/html": [
              "<div>\n",
              "<style scoped>\n",
              "    .dataframe tbody tr th:only-of-type {\n",
              "        vertical-align: middle;\n",
              "    }\n",
              "\n",
              "    .dataframe tbody tr th {\n",
              "        vertical-align: top;\n",
              "    }\n",
              "\n",
              "    .dataframe thead th {\n",
              "        text-align: right;\n",
              "    }\n",
              "</style>\n",
              "<table border=\"1\" class=\"dataframe\">\n",
              "  <thead>\n",
              "    <tr style=\"text-align: right;\">\n",
              "      <th></th>\n",
              "      <th>email</th>\n",
              "      <th>target</th>\n",
              "    </tr>\n",
              "  </thead>\n",
              "  <tbody>\n",
              "    <tr>\n",
              "      <th>0</th>\n",
              "      <td>From: lerxst@wam.umd.edu (where's my thing)\\nS...</td>\n",
              "      <td>7</td>\n",
              "    </tr>\n",
              "    <tr>\n",
              "      <th>1</th>\n",
              "      <td>From: guykuo@carson.u.washington.edu (Guy Kuo)...</td>\n",
              "      <td>4</td>\n",
              "    </tr>\n",
              "    <tr>\n",
              "      <th>2</th>\n",
              "      <td>From: twillis@ec.ecn.purdue.edu (Thomas E Will...</td>\n",
              "      <td>4</td>\n",
              "    </tr>\n",
              "    <tr>\n",
              "      <th>3</th>\n",
              "      <td>From: jgreen@amber (Joe Green)\\nSubject: Re: W...</td>\n",
              "      <td>1</td>\n",
              "    </tr>\n",
              "    <tr>\n",
              "      <th>4</th>\n",
              "      <td>From: jcm@head-cfa.harvard.edu (Jonathan McDow...</td>\n",
              "      <td>14</td>\n",
              "    </tr>\n",
              "  </tbody>\n",
              "</table>\n",
              "</div>"
            ],
            "text/plain": [
              "                                               email  target\n",
              "0  From: lerxst@wam.umd.edu (where's my thing)\\nS...       7\n",
              "1  From: guykuo@carson.u.washington.edu (Guy Kuo)...       4\n",
              "2  From: twillis@ec.ecn.purdue.edu (Thomas E Will...       4\n",
              "3  From: jgreen@amber (Joe Green)\\nSubject: Re: W...       1\n",
              "4  From: jcm@head-cfa.harvard.edu (Jonathan McDow...      14"
            ]
          },
          "metadata": {
            "tags": []
          },
          "execution_count": 14
        }
      ]
    },
    {
      "cell_type": "code",
      "metadata": {
        "id": "xOKTYUm0wo9w",
        "colab_type": "code",
        "colab": {
          "base_uri": "https://localhost:8080/",
          "height": 139
        },
        "outputId": "17e3d3cb-2243-4b1c-89c8-dbaf239e97e1"
      },
      "source": [
        "data.info()"
      ],
      "execution_count": 15,
      "outputs": [
        {
          "output_type": "stream",
          "text": [
            "<class 'pandas.core.frame.DataFrame'>\n",
            "RangeIndex: 11314 entries, 0 to 11313\n",
            "Data columns (total 2 columns):\n",
            "email     11314 non-null object\n",
            "target    11314 non-null int64\n",
            "dtypes: int64(1), object(1)\n",
            "memory usage: 176.9+ KB\n"
          ],
          "name": "stdout"
        }
      ]
    },
    {
      "cell_type": "code",
      "metadata": {
        "id": "qs9gIjMTwrB3",
        "colab_type": "code",
        "colab": {
          "base_uri": "https://localhost:8080/",
          "height": 34
        },
        "outputId": "d9e2b9f5-78c2-4781-8e84-e189844ec3a6"
      },
      "source": [
        "# Null 값 찾기\n",
        "data.isnull().values.any()"
      ],
      "execution_count": 16,
      "outputs": [
        {
          "output_type": "execute_result",
          "data": {
            "text/plain": [
              "False"
            ]
          },
          "metadata": {
            "tags": []
          },
          "execution_count": 16
        }
      ]
    },
    {
      "cell_type": "code",
      "metadata": {
        "id": "i8IsVR05wwut",
        "colab_type": "code",
        "colab": {
          "base_uri": "https://localhost:8080/",
          "height": 52
        },
        "outputId": "fcf2ff8e-28d8-4d09-89e0-75e697a6a8d5"
      },
      "source": [
        "print('중복을 제외한 샘플의 수 : {}'.format(data['email'].nunique()))\n",
        "print('중복을 제외한 주제의 수 : {}'.format(data['target'].nunique()))"
      ],
      "execution_count": 17,
      "outputs": [
        {
          "output_type": "stream",
          "text": [
            "중복을 제외한 샘플의 수 : 11314\n",
            "중복을 제외한 주제의 수 : 20\n"
          ],
          "name": "stdout"
        }
      ]
    },
    {
      "cell_type": "code",
      "metadata": {
        "id": "1eH6-kB5wzAj",
        "colab_type": "code",
        "colab": {
          "base_uri": "https://localhost:8080/",
          "height": 286
        },
        "outputId": "e1f78f05-a9fe-4b81-df6a-cad53fd5e852"
      },
      "source": [
        "# 데이터 분포 확인\n",
        "data['target'].value_counts().plot(kind='bar')"
      ],
      "execution_count": 18,
      "outputs": [
        {
          "output_type": "execute_result",
          "data": {
            "text/plain": [
              "<matplotlib.axes._subplots.AxesSubplot at 0x7fd10dff8a58>"
            ]
          },
          "metadata": {
            "tags": []
          },
          "execution_count": 18
        },
        {
          "output_type": "display_data",
          "data": {
            "image/png": "[encoded data removed]",
            "text/plain": [
              "<Figure size 432x288 with 1 Axes>"
            ]
          },
          "metadata": {
            "tags": []
          }
        }
      ]
    },
    {
      "cell_type": "code",
      "metadata": {
        "id": "3RsvupTTw4wu",
        "colab_type": "code",
        "colab": {
          "base_uri": "https://localhost:8080/",
          "height": 384
        },
        "outputId": "c9c9edfa-9ad8-4a58-acf5-e334a1873004"
      },
      "source": [
        "# 구체적인 수치 확인\n",
        "print(data.groupby('target').size().reset_index(name='count'))"
      ],
      "execution_count": 19,
      "outputs": [
        {
          "output_type": "stream",
          "text": [
            "    target  count\n",
            "0        0    480\n",
            "1        1    584\n",
            "2        2    591\n",
            "3        3    590\n",
            "4        4    578\n",
            "5        5    593\n",
            "6        6    585\n",
            "7        7    594\n",
            "8        8    598\n",
            "9        9    597\n",
            "10      10    600\n",
            "11      11    595\n",
            "12      12    591\n",
            "13      13    594\n",
            "14      14    593\n",
            "15      15    599\n",
            "16      16    546\n",
            "17      17    564\n",
            "18      18    465\n",
            "19      19    377\n"
          ],
          "name": "stdout"
        }
      ]
    },
    {
      "cell_type": "code",
      "metadata": {
        "id": "rikZENbJw-Ne",
        "colab_type": "code",
        "colab": {}
      },
      "source": [
        "# 본문(email)이랑 레이블(target) 분리하고 테스트 데이터 불러오기\n",
        "\n",
        "# 'test'를 기재하면 테스트 데이터만 리턴\n",
        "newsdata_test = fetch_20newsgroups(subset='test', shuffle=True)\n",
        "\n",
        "# 훈련 데이터의 본문 저장\n",
        "train_email = data['email']\n",
        "# 훈련 데이터의 레이블 저장\n",
        "train_label = data['target']\n",
        "\n",
        "# 테스트 데이터의 본문 저장\n",
        "test_email = newsdata_test.data\n",
        "# 테스트 데이터의 레이블 저장\n",
        "test_label = newsdata_test.target"
      ],
      "execution_count": 0,
      "outputs": []
    },
    {
      "cell_type": "code",
      "metadata": {
        "id": "n3ZLPL4nxht9",
        "colab_type": "code",
        "colab": {}
      },
      "source": [
        "max_words = 10000 # 실습에 사용할 단어의 최대 개수 -> 9999개 사용, 0은 padding으로 사용해서 1~9999\n",
        "num_classes = 20 # 레이블의 수"
      ],
      "execution_count": 0,
      "outputs": []
    },
    {
      "cell_type": "code",
      "metadata": {
        "id": "tjciJGlUxj3N",
        "colab_type": "code",
        "colab": {}
      },
      "source": [
        "# 전처리 함수\n",
        "def prepare_data(train_data, test_data, mode):\n",
        "    t = Tokenizer(num_words = max_words) # max_words 개수만큼의 단어만 사용\n",
        "    t.fit_on_texts(train_data)\n",
        "    X_train = t.texts_to_matrix(train_data, mode=mode) # 샘플 수 × max_words 크기의 행렬 생성\n",
        "    X_test = t.texts_to_matrix(test_data, mode=mode) # 샘플 수 × max_words 크기의 행렬 생성\n",
        "    return X_train, X_test, t.index_word"
      ],
      "execution_count": 0,
      "outputs": []
    },
    {
      "cell_type": "code",
      "metadata": {
        "id": "cNLBpkrox0Fe",
        "colab_type": "code",
        "colab": {}
      },
      "source": [
        "# binary 모드 사용\n",
        "X_train, X_test, index_to_word = prepare_data(train_email, test_email, 'binary')\n",
        "\n",
        "y_train = to_categorical(train_label, num_classes) # 원-핫 인코딩\n",
        "y_test = to_categorical(test_label, num_classes) # 원-핫 인코딩"
      ],
      "execution_count": 0,
      "outputs": []
    },
    {
      "cell_type": "code",
      "metadata": {
        "id": "296s9yjOx-NI",
        "colab_type": "code",
        "colab": {
          "base_uri": "https://localhost:8080/",
          "height": 87
        },
        "outputId": "003aa0c2-8951-4905-c568-1f163e7b78ef"
      },
      "source": [
        "print('훈련 샘플 본문의 크기 : {}'.format(X_train.shape))\n",
        "print('훈련 샘플 레이블의 크기 : {}'.format(y_train.shape))\n",
        "print('테스트 샘플 본문의 크기 : {}'.format(X_test.shape))\n",
        "print('테스트 샘플 레이블의 크기 : {}'.format(y_test.shape))"
      ],
      "execution_count": 24,
      "outputs": [
        {
          "output_type": "stream",
          "text": [
            "훈련 샘플 본문의 크기 : (11314, 10000)\n",
            "훈련 샘플 레이블의 크기 : (11314, 20)\n",
            "테스트 샘플 본문의 크기 : (7532, 10000)\n",
            "테스트 샘플 레이블의 크기 : (7532, 20)\n"
          ],
          "name": "stdout"
        }
      ]
    },
    {
      "cell_type": "code",
      "metadata": {
        "id": "hlTdgppDyBAf",
        "colab_type": "code",
        "colab": {
          "base_uri": "https://localhost:8080/",
          "height": 52
        },
        "outputId": "f0611562-0e49-484c-f905-26874302a944"
      },
      "source": [
        "print('빈도수 상위 1번 단어 : {}'.format(index_to_word[1]))\n",
        "print('빈도수 상위 9999번 단어 : {}'.format(index_to_word[9999]))"
      ],
      "execution_count": 25,
      "outputs": [
        {
          "output_type": "stream",
          "text": [
            "빈도수 상위 1번 단어 : the\n",
            "빈도수 상위 9999번 단어 : mic\n"
          ],
          "name": "stdout"
        }
      ]
    },
    {
      "cell_type": "code",
      "metadata": {
        "id": "MAGkAsUhyevN",
        "colab_type": "code",
        "colab": {}
      },
      "source": [
        "from tensorflow.keras.models import Sequential\n",
        "from tensorflow.keras.layers import Dense, Dropout\n",
        "\n",
        "def fit_and_evaluate(X_train, y_train, X_test, y_test):\n",
        "    model = Sequential()\n",
        "    model.add(Dense(256, input_shape=(max_words,), activation='relu'))\n",
        "    model.add(Dropout(0.5))\n",
        "    model.add(Dense(128, activation='relu'))\n",
        "    model.add(Dropout(0.5))\n",
        "    model.add(Dense(num_classes, activation='softmax'))\n",
        "\n",
        "    model.compile(loss='categorical_crossentropy', optimizer='adam', metrics=['accuracy'])\n",
        "    model.fit(X_train, y_train, batch_size=128, epochs=5, verbose=1, validation_split=0.1)\n",
        "    score = model.evaluate(X_test, y_test, batch_size=128, verbose=0)\n",
        "    return score[1]"
      ],
      "execution_count": 0,
      "outputs": []
    },
    {
      "cell_type": "code",
      "metadata": {
        "id": "dO6IwtpbysKL",
        "colab_type": "code",
        "colab": {
          "base_uri": "https://localhost:8080/",
          "height": 787
        },
        "outputId": "01752a86-ede5-4b4c-b5ae-ab78f12cc527"
      },
      "source": [
        "modes = ['binary', 'count', 'tfidf', 'freq'] # 4개의 모드를 리스트에 저장.\n",
        "\n",
        "for mode in modes: # 4개의 모드에 대해서 각각 아래의 작업을 반복한다.\n",
        "    X_train, X_test, _ = prepare_data(train_email, test_email, mode) # 모드에 따라서 데이터를 전처리\n",
        "    score = fit_and_evaluate(X_train, y_train, X_test, y_test) # 모델을 훈련하고 평가.\n",
        "    print(mode+' 모드의 테스트 정확도:', score)"
      ],
      "execution_count": 27,
      "outputs": [
        {
          "output_type": "stream",
          "text": [
            "Epoch 1/5\n",
            "80/80 [==============================] - 3s 43ms/step - loss: 2.2527 - accuracy: 0.3506 - val_loss: 0.9562 - val_accuracy: 0.8145\n",
            "Epoch 2/5\n",
            "80/80 [==============================] - 3s 41ms/step - loss: 0.8513 - accuracy: 0.7735 - val_loss: 0.4620 - val_accuracy: 0.8905\n",
            "Epoch 3/5\n",
            "80/80 [==============================] - 3s 41ms/step - loss: 0.4319 - accuracy: 0.8920 - val_loss: 0.3406 - val_accuracy: 0.9143\n",
            "Epoch 4/5\n",
            "80/80 [==============================] - 3s 42ms/step - loss: 0.2556 - accuracy: 0.9374 - val_loss: 0.3122 - val_accuracy: 0.9143\n",
            "Epoch 5/5\n",
            "80/80 [==============================] - 3s 42ms/step - loss: 0.1737 - accuracy: 0.9573 - val_loss: 0.2953 - val_accuracy: 0.9196\n",
            "binary 모드의 테스트 정확도: 0.8226234912872314\n",
            "Epoch 1/5\n",
            "80/80 [==============================] - 4s 46ms/step - loss: 2.7515 - accuracy: 0.2392 - val_loss: 1.6457 - val_accuracy: 0.7217\n",
            "Epoch 2/5\n",
            "80/80 [==============================] - 4s 46ms/step - loss: 1.4708 - accuracy: 0.6194 - val_loss: 0.7345 - val_accuracy: 0.8534\n",
            "Epoch 3/5\n",
            "80/80 [==============================] - 4s 46ms/step - loss: 0.7890 - accuracy: 0.7974 - val_loss: 0.5091 - val_accuracy: 0.8710\n",
            "Epoch 4/5\n",
            "80/80 [==============================] - 4s 45ms/step - loss: 0.5505 - accuracy: 0.8659 - val_loss: 0.4168 - val_accuracy: 0.8843\n",
            "Epoch 5/5\n",
            "80/80 [==============================] - 4s 46ms/step - loss: 0.4277 - accuracy: 0.9044 - val_loss: 0.3750 - val_accuracy: 0.8949\n",
            "count 모드의 테스트 정확도: 0.8177111148834229\n",
            "Epoch 1/5\n",
            "80/80 [==============================] - 3s 43ms/step - loss: 2.2671 - accuracy: 0.3542 - val_loss: 0.8271 - val_accuracy: 0.8322\n",
            "Epoch 2/5\n",
            "80/80 [==============================] - 3s 42ms/step - loss: 0.8571 - accuracy: 0.7704 - val_loss: 0.4378 - val_accuracy: 0.8878\n",
            "Epoch 3/5\n",
            "80/80 [==============================] - 3s 43ms/step - loss: 0.4573 - accuracy: 0.8828 - val_loss: 0.3425 - val_accuracy: 0.9081\n",
            "Epoch 4/5\n",
            "80/80 [==============================] - 3s 42ms/step - loss: 0.3009 - accuracy: 0.9300 - val_loss: 0.3154 - val_accuracy: 0.9072\n",
            "Epoch 5/5\n",
            "80/80 [==============================] - 3s 43ms/step - loss: 0.2294 - accuracy: 0.9529 - val_loss: 0.3069 - val_accuracy: 0.9152\n",
            "tfidf 모드의 테스트 정확도: 0.8291290402412415\n",
            "Epoch 1/5\n",
            "80/80 [==============================] - 4s 52ms/step - loss: 2.9801 - accuracy: 0.0827 - val_loss: 2.9382 - val_accuracy: 0.2527\n",
            "Epoch 2/5\n",
            "80/80 [==============================] - 3s 42ms/step - loss: 2.7619 - accuracy: 0.1965 - val_loss: 2.4556 - val_accuracy: 0.3498\n",
            "Epoch 3/5\n",
            "80/80 [==============================] - 3s 42ms/step - loss: 2.2076 - accuracy: 0.3221 - val_loss: 1.8807 - val_accuracy: 0.5565\n",
            "Epoch 4/5\n",
            "80/80 [==============================] - 3s 43ms/step - loss: 1.7402 - accuracy: 0.4568 - val_loss: 1.4662 - val_accuracy: 0.6740\n",
            "Epoch 5/5\n",
            "80/80 [==============================] - 3s 42ms/step - loss: 1.3899 - accuracy: 0.5729 - val_loss: 1.1637 - val_accuracy: 0.7261\n",
            "freq 모드의 테스트 정확도: 0.68534255027771\n"
          ],
          "name": "stdout"
        }
      ]
    }
  ]
}