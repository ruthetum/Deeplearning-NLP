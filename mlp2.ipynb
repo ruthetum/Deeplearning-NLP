{
  "nbformat": 4,
  "nbformat_minor": 0,
  "metadata": {
    "colab": {
      "name": "mlp2.ipynb",
      "provenance": [],
      "collapsed_sections": [],
      "authorship_tag": "ABX9TyOpoq8qS3l3LgKNSBSSPXpq",
      "include_colab_link": true
    },
    "kernelspec": {
      "name": "python3",
      "display_name": "Python 3"
    }
  },
  "cells": [
    {
      "cell_type": "markdown",
      "metadata": {
        "id": "view-in-github",
        "colab_type": "text"
      },
      "source": [
        "<a href=\"https://colab.research.google.com/github/ruthetum/Deeplearning-NLP/blob/master/mlp2.ipynb\" target=\"_parent\"><img src=\"https://colab.research.google.com/assets/colab-badge.svg\" alt=\"Open In Colab\"/></a>"
      ]
    },
    {
      "cell_type": "markdown",
      "metadata": {
        "id": "EwQGjbH89ZgN",
        "colab_type": "text"
      },
      "source": [
        "# mlp.ipynb 에서 실행한 뉴스 데이터 \n",
        "\n",
        "# 길이가 짧으면서 의미없는 단어(a, the, to, of) 삭제하기"
      ]
    },
    {
      "cell_type": "code",
      "metadata": {
        "id": "AuNPk9HR3k9M",
        "colab_type": "code",
        "colab": {
          "base_uri": "https://localhost:8080/",
          "height": 104
        },
        "outputId": "0b729429-1a5e-42c1-a19d-6c9e16c7ede1"
      },
      "source": [
        "%tensorflow_version 2.x\n",
        "\n",
        "import tensorflow as tf\n",
        "\n",
        "print('version : ', tf.__version__)\n",
        "print('GPU Available : ', tf.test.is_gpu_available())"
      ],
      "execution_count": 1,
      "outputs": [
        {
          "output_type": "stream",
          "text": [
            "version :  2.2.0-rc1\n",
            "WARNING:tensorflow:From <ipython-input-1-a840f7824ccb>:6: is_gpu_available (from tensorflow.python.framework.test_util) is deprecated and will be removed in a future version.\n",
            "Instructions for updating:\n",
            "Use `tf.config.list_physical_devices('GPU')` instead.\n",
            "GPU Available :  False\n"
          ],
          "name": "stdout"
        }
      ]
    },
    {
      "cell_type": "code",
      "metadata": {
        "id": "KzjCJCXj3lfI",
        "colab_type": "code",
        "colab": {
          "base_uri": "https://localhost:8080/",
          "height": 52
        },
        "outputId": "33e69eca-996c-407c-a3ac-4334a169efdf"
      },
      "source": [
        "import pandas as pd\n",
        "from sklearn.datasets import fetch_20newsgroups\n",
        "%matplotlib inline\n",
        "import matplotlib.pyplot as plt\n",
        "from tensorflow.keras.preprocessing.text import Tokenizer\n",
        "from tensorflow.keras.utils import to_categorical\n",
        "\n",
        "# 사이킷런에서 뉴스 그룹 데이터 제공\n",
        "newsdata = fetch_20newsgroups(subset = 'train')"
      ],
      "execution_count": 2,
      "outputs": [
        {
          "output_type": "stream",
          "text": [
            "Downloading 20news dataset. This may take a few minutes.\n",
            "Downloading dataset from https://ndownloader.figshare.com/files/5975967 (14 MB)\n"
          ],
          "name": "stderr"
        }
      ]
    },
    {
      "cell_type": "code",
      "metadata": {
        "id": "gdYHp0_O3lg4",
        "colab_type": "code",
        "colab": {
          "base_uri": "https://localhost:8080/",
          "height": 197
        },
        "outputId": "50469790-da6c-4168-9910-a4fcb55553dd"
      },
      "source": [
        "data = pd.DataFrame(newsdata.data, columns = ['email'])\n",
        "data['target'] = pd.Series(newsdata.target)\n",
        "data[:5]"
      ],
      "execution_count": 3,
      "outputs": [
        {
          "output_type": "execute_result",
          "data": {
            "text/html": [
              "<div>\n",
              "<style scoped>\n",
              "    .dataframe tbody tr th:only-of-type {\n",
              "        vertical-align: middle;\n",
              "    }\n",
              "\n",
              "    .dataframe tbody tr th {\n",
              "        vertical-align: top;\n",
              "    }\n",
              "\n",
              "    .dataframe thead th {\n",
              "        text-align: right;\n",
              "    }\n",
              "</style>\n",
              "<table border=\"1\" class=\"dataframe\">\n",
              "  <thead>\n",
              "    <tr style=\"text-align: right;\">\n",
              "      <th></th>\n",
              "      <th>email</th>\n",
              "      <th>target</th>\n",
              "    </tr>\n",
              "  </thead>\n",
              "  <tbody>\n",
              "    <tr>\n",
              "      <th>0</th>\n",
              "      <td>From: lerxst@wam.umd.edu (where's my thing)\\nS...</td>\n",
              "      <td>7</td>\n",
              "    </tr>\n",
              "    <tr>\n",
              "      <th>1</th>\n",
              "      <td>From: guykuo@carson.u.washington.edu (Guy Kuo)...</td>\n",
              "      <td>4</td>\n",
              "    </tr>\n",
              "    <tr>\n",
              "      <th>2</th>\n",
              "      <td>From: twillis@ec.ecn.purdue.edu (Thomas E Will...</td>\n",
              "      <td>4</td>\n",
              "    </tr>\n",
              "    <tr>\n",
              "      <th>3</th>\n",
              "      <td>From: jgreen@amber (Joe Green)\\nSubject: Re: W...</td>\n",
              "      <td>1</td>\n",
              "    </tr>\n",
              "    <tr>\n",
              "      <th>4</th>\n",
              "      <td>From: jcm@head-cfa.harvard.edu (Jonathan McDow...</td>\n",
              "      <td>14</td>\n",
              "    </tr>\n",
              "  </tbody>\n",
              "</table>\n",
              "</div>"
            ],
            "text/plain": [
              "                                               email  target\n",
              "0  From: lerxst@wam.umd.edu (where's my thing)\\nS...       7\n",
              "1  From: guykuo@carson.u.washington.edu (Guy Kuo)...       4\n",
              "2  From: twillis@ec.ecn.purdue.edu (Thomas E Will...       4\n",
              "3  From: jgreen@amber (Joe Green)\\nSubject: Re: W...       1\n",
              "4  From: jcm@head-cfa.harvard.edu (Jonathan McDow...      14"
            ]
          },
          "metadata": {
            "tags": []
          },
          "execution_count": 3
        }
      ]
    },
    {
      "cell_type": "code",
      "metadata": {
        "id": "VdOuPdVc3li0",
        "colab_type": "code",
        "colab": {}
      },
      "source": [
        "newsdata_test = fetch_20newsgroups(subset='test', shuffle=True)\n",
        "\n",
        "train_email = data['email']\n",
        "train_label = data['target']\n",
        "\n",
        "test_email = newsdata_test.data\n",
        "test_label = newsdata_test.target"
      ],
      "execution_count": 0,
      "outputs": []
    },
    {
      "cell_type": "code",
      "metadata": {
        "id": "dDD0ZP6t4hoU",
        "colab_type": "code",
        "colab": {
          "base_uri": "https://localhost:8080/",
          "height": 122
        },
        "outputId": "337e149c-00eb-4e4f-8127-066755352dff"
      },
      "source": [
        "train_email[:5]"
      ],
      "execution_count": 10,
      "outputs": [
        {
          "output_type": "execute_result",
          "data": {
            "text/plain": [
              "0    From: lerxst@wam.umd.edu (where's my thing)\\nS...\n",
              "1    From: guykuo@carson.u.washington.edu (Guy Kuo)...\n",
              "2    From: twillis@ec.ecn.purdue.edu (Thomas E Will...\n",
              "3    From: jgreen@amber (Joe Green)\\nSubject: Re: W...\n",
              "4    From: jcm@head-cfa.harvard.edu (Jonathan McDow...\n",
              "Name: email, dtype: object"
            ]
          },
          "metadata": {
            "tags": []
          },
          "execution_count": 10
        }
      ]
    },
    {
      "cell_type": "code",
      "metadata": {
        "id": "xDpnVBZD3lkp",
        "colab_type": "code",
        "colab": {}
      },
      "source": [
        "max_words = 8500 # 10000에서 8500으로\n",
        "num_classes = 20"
      ],
      "execution_count": 0,
      "outputs": []
    },
    {
      "cell_type": "code",
      "metadata": {
        "id": "CEi6PrtG4C0i",
        "colab_type": "code",
        "colab": {}
      },
      "source": [
        "def prepare_data(train_data, test_data, mode):\n",
        "    t = Tokenizer(num_words = max_words)\n",
        "    t.fit_on_texts(train_data)\n",
        "    X_train = t.texts_to_matrix(train_data, mode=mode)\n",
        "    X_test = t.texts_to_matrix(test_data, mode=mode)\n",
        "    return X_train, X_test, t.index_word"
      ],
      "execution_count": 0,
      "outputs": []
    },
    {
      "cell_type": "code",
      "metadata": {
        "id": "pRMesCjp4C60",
        "colab_type": "code",
        "colab": {}
      },
      "source": [
        "X_train, X_test, index_to_word = prepare_data(train_email, test_email, 'binary')\n",
        "y_train = to_categorical(train_label, num_classes)\n",
        "y_test = to_categorical(test_label, num_classes)"
      ],
      "execution_count": 0,
      "outputs": []
    },
    {
      "cell_type": "code",
      "metadata": {
        "id": "_fsZ5ymM4C43",
        "colab_type": "code",
        "colab": {
          "base_uri": "https://localhost:8080/",
          "height": 542
        },
        "outputId": "dda17058-014e-4dfe-b287-a047dc53fa22"
      },
      "source": [
        "for i in range(1,31):\n",
        "  print('빈도수 상위 {}번 단어 : {}'.format(i, index_to_word[i]))"
      ],
      "execution_count": 17,
      "outputs": [
        {
          "output_type": "stream",
          "text": [
            "빈도수 상위 1번 단어 : the\n",
            "빈도수 상위 2번 단어 : to\n",
            "빈도수 상위 3번 단어 : of\n",
            "빈도수 상위 4번 단어 : a\n",
            "빈도수 상위 5번 단어 : 'ax\n",
            "빈도수 상위 6번 단어 : and\n",
            "빈도수 상위 7번 단어 : in\n",
            "빈도수 상위 8번 단어 : i\n",
            "빈도수 상위 9번 단어 : is\n",
            "빈도수 상위 10번 단어 : that\n",
            "빈도수 상위 11번 단어 : it\n",
            "빈도수 상위 12번 단어 : for\n",
            "빈도수 상위 13번 단어 : you\n",
            "빈도수 상위 14번 단어 : from\n",
            "빈도수 상위 15번 단어 : edu\n",
            "빈도수 상위 16번 단어 : on\n",
            "빈도수 상위 17번 단어 : this\n",
            "빈도수 상위 18번 단어 : be\n",
            "빈도수 상위 19번 단어 : are\n",
            "빈도수 상위 20번 단어 : not\n",
            "빈도수 상위 21번 단어 : have\n",
            "빈도수 상위 22번 단어 : with\n",
            "빈도수 상위 23번 단어 : as\n",
            "빈도수 상위 24번 단어 : 1\n",
            "빈도수 상위 25번 단어 : or\n",
            "빈도수 상위 26번 단어 : was\n",
            "빈도수 상위 27번 단어 : if\n",
            "빈도수 상위 28번 단어 : but\n",
            "빈도수 상위 29번 단어 : subject\n",
            "빈도수 상위 30번 단어 : they\n"
          ],
          "name": "stdout"
        }
      ]
    },
    {
      "cell_type": "code",
      "metadata": {
        "id": "YntT3S986_TZ",
        "colab_type": "code",
        "colab": {}
      },
      "source": [
        "from tensorflow.keras.models import Sequential\n",
        "from tensorflow.keras.layers import Dense, Dropout\n",
        "\n",
        "def fit_and_evaluate(X_train, y_train, X_test, y_test):\n",
        "    model = Sequential()\n",
        "    model.add(Dense(256, input_shape=(max_words,), activation='relu'))\n",
        "    model.add(Dropout(0.5))\n",
        "    model.add(Dense(128, activation='relu'))\n",
        "    model.add(Dropout(0.5))\n",
        "    model.add(Dense(num_classes, activation='softmax'))\n",
        "\n",
        "    model.compile(loss='categorical_crossentropy', optimizer='adam', metrics=['accuracy'])\n",
        "    model.fit(X_train, y_train, batch_size=128, epochs=5, verbose=1, validation_split=0.1)\n",
        "    score = model.evaluate(X_test, y_test, batch_size=128, verbose=0)\n",
        "    return score[1]"
      ],
      "execution_count": 0,
      "outputs": []
    },
    {
      "cell_type": "code",
      "metadata": {
        "id": "f-2I0KvO7NQD",
        "colab_type": "code",
        "colab": {
          "base_uri": "https://localhost:8080/",
          "height": 787
        },
        "outputId": "bbae7e15-4503-4230-db4e-b4c11046238c"
      },
      "source": [
        "modes = ['binary', 'count', 'tfidf', 'freq']\n",
        "\n",
        "for mode in modes:\n",
        "    X_train, X_test, _ = prepare_data(train_email, test_email, mode)\n",
        "    score = fit_and_evaluate(X_train, y_train, X_test, y_test)\n",
        "    print(mode+' 모드의 테스트 정확도:', score)"
      ],
      "execution_count": 19,
      "outputs": [
        {
          "output_type": "stream",
          "text": [
            "Epoch 1/5\n",
            "80/80 [==============================] - 3s 39ms/step - loss: 2.3117 - accuracy: 0.3253 - val_loss: 1.0325 - val_accuracy: 0.8083\n",
            "Epoch 2/5\n",
            "80/80 [==============================] - 3s 37ms/step - loss: 0.9069 - accuracy: 0.7504 - val_loss: 0.4783 - val_accuracy: 0.8719\n",
            "Epoch 3/5\n",
            "80/80 [==============================] - 3s 37ms/step - loss: 0.4628 - accuracy: 0.8743 - val_loss: 0.3757 - val_accuracy: 0.9002\n",
            "Epoch 4/5\n",
            "80/80 [==============================] - 3s 37ms/step - loss: 0.2856 - accuracy: 0.9266 - val_loss: 0.3394 - val_accuracy: 0.9011\n",
            "Epoch 5/5\n",
            "80/80 [==============================] - 3s 37ms/step - loss: 0.1844 - accuracy: 0.9547 - val_loss: 0.3184 - val_accuracy: 0.9081\n",
            "binary 모드의 테스트 정확도: 0.8244822025299072\n",
            "Epoch 1/5\n",
            "80/80 [==============================] - 3s 40ms/step - loss: 2.8884 - accuracy: 0.2235 - val_loss: 1.7863 - val_accuracy: 0.6820\n",
            "Epoch 2/5\n",
            "80/80 [==============================] - 3s 38ms/step - loss: 1.5211 - accuracy: 0.5958 - val_loss: 0.7614 - val_accuracy: 0.8489\n",
            "Epoch 3/5\n",
            "80/80 [==============================] - 3s 38ms/step - loss: 0.9339 - accuracy: 0.7827 - val_loss: 0.5641 - val_accuracy: 0.8684\n",
            "Epoch 4/5\n",
            "80/80 [==============================] - 3s 39ms/step - loss: 0.6053 - accuracy: 0.8636 - val_loss: 0.4534 - val_accuracy: 0.8922\n",
            "Epoch 5/5\n",
            "80/80 [==============================] - 3s 38ms/step - loss: 0.4006 - accuracy: 0.9013 - val_loss: 0.4354 - val_accuracy: 0.8887\n",
            "count 모드의 테스트 정확도: 0.8106744289398193\n",
            "Epoch 1/5\n",
            "80/80 [==============================] - 3s 38ms/step - loss: 2.2809 - accuracy: 0.3391 - val_loss: 0.8309 - val_accuracy: 0.8163\n",
            "Epoch 2/5\n",
            "80/80 [==============================] - 3s 37ms/step - loss: 0.8881 - accuracy: 0.7523 - val_loss: 0.4403 - val_accuracy: 0.8799\n",
            "Epoch 3/5\n",
            "80/80 [==============================] - 3s 37ms/step - loss: 0.4706 - accuracy: 0.8696 - val_loss: 0.3633 - val_accuracy: 0.8958\n",
            "Epoch 4/5\n",
            "80/80 [==============================] - 3s 37ms/step - loss: 0.3076 - accuracy: 0.9261 - val_loss: 0.3459 - val_accuracy: 0.9011\n",
            "Epoch 5/5\n",
            "80/80 [==============================] - 3s 37ms/step - loss: 0.2444 - accuracy: 0.9439 - val_loss: 0.3342 - val_accuracy: 0.9046\n",
            "tfidf 모드의 테스트 정확도: 0.8279341459274292\n",
            "Epoch 1/5\n",
            "80/80 [==============================] - 3s 39ms/step - loss: 2.9808 - accuracy: 0.0802 - val_loss: 2.9398 - val_accuracy: 0.1555\n",
            "Epoch 2/5\n",
            "80/80 [==============================] - 3s 37ms/step - loss: 2.7488 - accuracy: 0.1842 - val_loss: 2.4374 - val_accuracy: 0.3940\n",
            "Epoch 3/5\n",
            "80/80 [==============================] - 3s 37ms/step - loss: 2.2377 - accuracy: 0.3127 - val_loss: 1.9380 - val_accuracy: 0.5680\n",
            "Epoch 4/5\n",
            "80/80 [==============================] - 3s 37ms/step - loss: 1.8002 - accuracy: 0.4383 - val_loss: 1.5443 - val_accuracy: 0.6299\n",
            "Epoch 5/5\n",
            "80/80 [==============================] - 3s 37ms/step - loss: 1.4411 - accuracy: 0.5656 - val_loss: 1.2342 - val_accuracy: 0.7182\n",
            "freq 모드의 테스트 정확도: 0.6583908796310425\n"
          ],
          "name": "stdout"
        }
      ]
    },
    {
      "cell_type": "code",
      "metadata": {
        "id": "ao7SEYXC6oG3",
        "colab_type": "code",
        "colab": {}
      },
      "source": [
        "def prepare_data2(train_data, test_data, mode):\n",
        "    t = Tokenizer(num_words = max_words)\n",
        "    t.fit_on_texts(train_data)\n",
        "    \n",
        "    for i in range(1,11):\n",
        "      del t.index_word[i]\n",
        "\n",
        "    X_train = t.texts_to_matrix(train_data, mode=mode)\n",
        "    X_test = t.texts_to_matrix(test_data, mode=mode)\n",
        "    return X_train, X_test, t.index_word"
      ],
      "execution_count": 0,
      "outputs": []
    },
    {
      "cell_type": "code",
      "metadata": {
        "id": "1JwufDMY8qKK",
        "colab_type": "code",
        "colab": {}
      },
      "source": [
        "X_train, X_test, index_to_word = prepare_data2(train_email, test_email, 'binary')\n",
        "y_train = to_categorical(train_label, num_classes)\n",
        "y_test = to_categorical(test_label, num_classes)"
      ],
      "execution_count": 0,
      "outputs": []
    },
    {
      "cell_type": "code",
      "metadata": {
        "id": "Vq2B2ADL8tlN",
        "colab_type": "code",
        "colab": {
          "base_uri": "https://localhost:8080/",
          "height": 787
        },
        "outputId": "e354ed88-641e-45ce-a37e-9dff7c0b4311"
      },
      "source": [
        "modes = ['binary', 'count', 'tfidf', 'freq']\n",
        "\n",
        "for mode in modes:\n",
        "    X_train, X_test, _ = prepare_data2(train_email, test_email, mode)\n",
        "    score = fit_and_evaluate(X_train, y_train, X_test, y_test)\n",
        "    print(mode+' 모드의 테스트 정확도:', score)"
      ],
      "execution_count": 24,
      "outputs": [
        {
          "output_type": "stream",
          "text": [
            "Epoch 1/5\n",
            "80/80 [==============================] - 3s 38ms/step - loss: 2.3124 - accuracy: 0.3252 - val_loss: 0.9919 - val_accuracy: 0.8269\n",
            "Epoch 2/5\n",
            "80/80 [==============================] - 3s 37ms/step - loss: 0.8981 - accuracy: 0.7451 - val_loss: 0.4986 - val_accuracy: 0.8772\n",
            "Epoch 3/5\n",
            "80/80 [==============================] - 3s 37ms/step - loss: 0.4516 - accuracy: 0.8788 - val_loss: 0.3858 - val_accuracy: 0.8958\n",
            "Epoch 4/5\n",
            "80/80 [==============================] - 3s 37ms/step - loss: 0.2862 - accuracy: 0.9268 - val_loss: 0.3465 - val_accuracy: 0.8984\n",
            "Epoch 5/5\n",
            "80/80 [==============================] - 3s 37ms/step - loss: 0.1856 - accuracy: 0.9574 - val_loss: 0.3261 - val_accuracy: 0.9108\n",
            "binary 모드의 테스트 정확도: 0.81465744972229\n",
            "Epoch 1/5\n",
            "80/80 [==============================] - 3s 38ms/step - loss: 2.7949 - accuracy: 0.2254 - val_loss: 1.7599 - val_accuracy: 0.6899\n",
            "Epoch 2/5\n",
            "80/80 [==============================] - 3s 37ms/step - loss: 1.5000 - accuracy: 0.6015 - val_loss: 0.7554 - val_accuracy: 0.8295\n",
            "Epoch 3/5\n",
            "80/80 [==============================] - 3s 37ms/step - loss: 0.8802 - accuracy: 0.7791 - val_loss: 0.5518 - val_accuracy: 0.8604\n",
            "Epoch 4/5\n",
            "80/80 [==============================] - 3s 37ms/step - loss: 0.6152 - accuracy: 0.8525 - val_loss: 0.4576 - val_accuracy: 0.8887\n",
            "Epoch 5/5\n",
            "80/80 [==============================] - 3s 37ms/step - loss: 0.4244 - accuracy: 0.9034 - val_loss: 0.4160 - val_accuracy: 0.8913\n",
            "count 모드의 테스트 정확도: 0.8114710450172424\n",
            "Epoch 1/5\n",
            "80/80 [==============================] - 3s 40ms/step - loss: 2.2937 - accuracy: 0.3457 - val_loss: 0.8871 - val_accuracy: 0.8269\n",
            "Epoch 2/5\n",
            "80/80 [==============================] - 3s 39ms/step - loss: 0.9014 - accuracy: 0.7503 - val_loss: 0.4433 - val_accuracy: 0.8896\n",
            "Epoch 3/5\n",
            "80/80 [==============================] - 3s 37ms/step - loss: 0.4715 - accuracy: 0.8782 - val_loss: 0.3568 - val_accuracy: 0.8993\n",
            "Epoch 4/5\n",
            "80/80 [==============================] - 3s 37ms/step - loss: 0.3082 - accuracy: 0.9202 - val_loss: 0.3370 - val_accuracy: 0.9046\n",
            "Epoch 5/5\n",
            "80/80 [==============================] - 3s 37ms/step - loss: 0.2422 - accuracy: 0.9419 - val_loss: 0.3218 - val_accuracy: 0.9099\n",
            "tfidf 모드의 테스트 정확도: 0.8218268752098083\n",
            "Epoch 1/5\n",
            "80/80 [==============================] - 3s 39ms/step - loss: 2.9773 - accuracy: 0.0868 - val_loss: 2.9315 - val_accuracy: 0.1767\n",
            "Epoch 2/5\n",
            "80/80 [==============================] - 3s 38ms/step - loss: 2.7172 - accuracy: 0.2082 - val_loss: 2.3860 - val_accuracy: 0.3869\n",
            "Epoch 3/5\n",
            "80/80 [==============================] - 3s 38ms/step - loss: 2.1707 - accuracy: 0.3237 - val_loss: 1.8910 - val_accuracy: 0.5512\n",
            "Epoch 4/5\n",
            "80/80 [==============================] - 3s 37ms/step - loss: 1.7452 - accuracy: 0.4703 - val_loss: 1.4921 - val_accuracy: 0.6449\n",
            "Epoch 5/5\n",
            "80/80 [==============================] - 3s 37ms/step - loss: 1.3903 - accuracy: 0.5822 - val_loss: 1.1785 - val_accuracy: 0.6952\n",
            "freq 모드의 테스트 정확도: 0.6716675758361816\n"
          ],
          "name": "stdout"
        }
      ]
    }
  ]
}