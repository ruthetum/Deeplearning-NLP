{
  "nbformat": 4,
  "nbformat_minor": 0,
  "metadata": {
    "colab": {
      "name": "dropout.ipynb",
      "provenance": [],
      "collapsed_sections": [],
      "authorship_tag": "ABX9TyN8H/9j3TPJ/0aKavqhu1v1",
      "include_colab_link": true
    },
    "kernelspec": {
      "name": "python3",
      "display_name": "Python 3"
    }
  },
  "cells": [
    {
      "cell_type": "markdown",
      "metadata": {
        "id": "view-in-github",
        "colab_type": "text"
      },
      "source": [
        "<a href=\"https://colab.research.google.com/github/ruthetum/Deeplearning-NLP/blob/master/dropout.ipynb\" target=\"_parent\"><img src=\"https://colab.research.google.com/assets/colab-badge.svg\" alt=\"Open In Colab\"/></a>"
      ]
    },
    {
      "cell_type": "markdown",
      "metadata": {
        "id": "dQrh8nDQvK_t",
        "colab_type": "text"
      },
      "source": [
        "# 드롭아웃\n",
        "\n",
        "과적합을 막기 위한 방법\n",
        "* 데이터 양 늘리기\n",
        "* 모델의 복잡도 줄이기(은닉층 수, 매개변수 줄이기)\n",
        "* 가중치 규제 적용하기\n",
        "* 드롭 아웃\n",
        "\n",
        "중의 하나로 \n",
        "\n",
        "학습 과정에서 신경망의 일부를 사용하지 않는 방법\n",
        "\n",
        "Ex. 드롭아웃 비율이 0.5라면 학습 과정마다 랜덤으로 절반의 뉴런 사용하지 않음\n",
        "\n",
        "드롭아웃은 신경망 학습 시에만 사용하고 예측 시에는 사용하지 않는 것이 일반적"
      ]
    },
    {
      "cell_type": "code",
      "metadata": {
        "id": "Kj-8ExXVuMEj",
        "colab_type": "code",
        "colab": {}
      },
      "source": [
        "model = Sequential()\n",
        "model.add(Dense(256, input_shape=(max_words,), activation='relu'))\n",
        "# 드롭아웃 추가. 비율은 50%\n",
        "model.add(Dropout(0.5))\n",
        "model.add(Dense(128, activation='relu'))\n",
        "# 드롭아웃 추가\n",
        "model.add(Dropout(0.5))\n",
        "model.add(Dense(num_classes, activation='softmax'))"
      ],
      "execution_count": 0,
      "outputs": []
    }
  ]
}