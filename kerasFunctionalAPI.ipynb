{
  "nbformat": 4,
  "nbformat_minor": 0,
  "metadata": {
    "colab": {
      "name": "kerasFunctionalAPI.ipynb",
      "provenance": [],
      "collapsed_sections": [],
      "authorship_tag": "ABX9TyPewZRCuTn8A9HXOim98j7d",
      "include_colab_link": true
    },
    "kernelspec": {
      "name": "python3",
      "display_name": "Python 3"
    }
  },
  "cells": [
    {
      "cell_type": "markdown",
      "metadata": {
        "id": "view-in-github",
        "colab_type": "text"
      },
      "source": [
        "<a href=\"https://colab.research.google.com/github/ruthetum/Deeplearning-NLP/blob/master/kerasFunctionalAPI.ipynb\" target=\"_parent\"><img src=\"https://colab.research.google.com/assets/colab-badge.svg\" alt=\"Open In Colab\"/></a>"
      ]
    },
    {
      "cell_type": "markdown",
      "metadata": {
        "id": "5K6mXlmiAp6H",
        "colab_type": "text"
      },
      "source": [
        "# Keras의 함수형 API"
      ]
    },
    {
      "cell_type": "code",
      "metadata": {
        "id": "CIUPibmEAo0H",
        "colab_type": "code",
        "colab": {
          "base_uri": "https://localhost:8080/",
          "height": 104
        },
        "outputId": "02522dc5-9f42-4d6c-c321-0c69ae5f473f"
      },
      "source": [
        "%tensorflow_version 2.x\n",
        "\n",
        "import tensorflow as tf\n",
        "\n",
        "print('version : ', tf.__version__)\n",
        "print('GPU Available : ', tf.test.is_gpu_available())"
      ],
      "execution_count": 1,
      "outputs": [
        {
          "output_type": "stream",
          "text": [
            "version :  2.2.0-rc1\n",
            "WARNING:tensorflow:From <ipython-input-1-a840f7824ccb>:6: is_gpu_available (from tensorflow.python.framework.test_util) is deprecated and will be removed in a future version.\n",
            "Instructions for updating:\n",
            "Use `tf.config.list_physical_devices('GPU')` instead.\n",
            "GPU Available :  False\n"
          ],
          "name": "stdout"
        }
      ]
    },
    {
      "cell_type": "markdown",
      "metadata": {
        "id": "OMA6gwzal4W2",
        "colab_type": "text"
      },
      "source": [
        "# 1. sequential API 이용"
      ]
    },
    {
      "cell_type": "code",
      "metadata": {
        "id": "1evdljA7k45E",
        "colab_type": "code",
        "colab": {}
      },
      "source": [
        "from tensorflow.keras.models import Sequential\n",
        "from tensorflow.keras.layers import Dense\n",
        "model=Sequential()\n",
        "model.add(Dense(3, input_dim=4, activation='softmax'))"
      ],
      "execution_count": 0,
      "outputs": []
    },
    {
      "cell_type": "markdown",
      "metadata": {
        "id": "Wxnawxhjl94e",
        "colab_type": "text"
      },
      "source": [
        "# 2. functional API 이용"
      ]
    },
    {
      "cell_type": "markdown",
      "metadata": {
        "id": "v9t_NMlqmpG1",
        "colab_type": "text"
      },
      "source": [
        "1) 전결합 피드 포워드 신경망 (Fully-connected FFNN)"
      ]
    },
    {
      "cell_type": "code",
      "metadata": {
        "id": "FTcX7dPTmzn3",
        "colab_type": "code",
        "colab": {}
      },
      "source": [
        "from tensorflow.keras.layers import Input, Dense\n",
        "from tensorflow.keras.models import Model\n",
        "\n",
        "# 입력(10), 출력(1)\n",
        "inputs = Input(shape=(10,))\n",
        "hidden1 = Dense(64, activation='relu')(inputs)\n",
        "hidden2 = Dense(64, activation='relu')(hidden1)\n",
        "output = Dense(1, activation='sigmoid')(hidden2)\n",
        "\n",
        "model = Model(inputs=inputs, outputs=output)"
      ],
      "execution_count": 0,
      "outputs": []
    },
    {
      "cell_type": "code",
      "metadata": {
        "id": "z4Gjii7GnL30",
        "colab_type": "code",
        "colab": {
          "base_uri": "https://localhost:8080/",
          "height": 186
        },
        "outputId": "9eed6bf2-dd83-4659-94bc-db8554c238c3"
      },
      "source": [
        "model.compile(optimizer='rmsprop', loss='categorical_crossentropy', metrics=['accuracy'])\n",
        "model.fit(data, labels)"
      ],
      "execution_count": 4,
      "outputs": [
        {
          "output_type": "error",
          "ename": "NameError",
          "evalue": "ignored",
          "traceback": [
            "\u001b[0;31m---------------------------------------------------------------------------\u001b[0m",
            "\u001b[0;31mNameError\u001b[0m                                 Traceback (most recent call last)",
            "\u001b[0;32m<ipython-input-4-c5cded2e2d1a>\u001b[0m in \u001b[0;36m<module>\u001b[0;34m()\u001b[0m\n\u001b[1;32m      1\u001b[0m \u001b[0mmodel\u001b[0m\u001b[0;34m.\u001b[0m\u001b[0mcompile\u001b[0m\u001b[0;34m(\u001b[0m\u001b[0moptimizer\u001b[0m\u001b[0;34m=\u001b[0m\u001b[0;34m'rmsprop'\u001b[0m\u001b[0;34m,\u001b[0m \u001b[0mloss\u001b[0m\u001b[0;34m=\u001b[0m\u001b[0;34m'categorical_crossentropy'\u001b[0m\u001b[0;34m,\u001b[0m \u001b[0mmetrics\u001b[0m\u001b[0;34m=\u001b[0m\u001b[0;34m[\u001b[0m\u001b[0;34m'accuracy'\u001b[0m\u001b[0;34m]\u001b[0m\u001b[0;34m)\u001b[0m\u001b[0;34m\u001b[0m\u001b[0;34m\u001b[0m\u001b[0m\n\u001b[0;32m----> 2\u001b[0;31m \u001b[0mmodel\u001b[0m\u001b[0;34m.\u001b[0m\u001b[0mfit\u001b[0m\u001b[0;34m(\u001b[0m\u001b[0mdata\u001b[0m\u001b[0;34m,\u001b[0m \u001b[0mlabels\u001b[0m\u001b[0;34m)\u001b[0m\u001b[0;34m\u001b[0m\u001b[0;34m\u001b[0m\u001b[0m\n\u001b[0m",
            "\u001b[0;31mNameError\u001b[0m: name 'data' is not defined"
          ]
        }
      ]
    },
    {
      "cell_type": "markdown",
      "metadata": {
        "id": "nuPAL2ATnSH9",
        "colab_type": "text"
      },
      "source": [
        "2) 선형 회귀 (Linear Regression)"
      ]
    },
    {
      "cell_type": "code",
      "metadata": {
        "id": "zmKSXS0gnXaM",
        "colab_type": "code",
        "colab": {
          "base_uri": "https://localhost:8080/",
          "height": 238
        },
        "outputId": "398643bc-bf0c-42dd-bd10-1c4e11a6d34f"
      },
      "source": [
        "from tensorflow.keras.layers import Input, Dense\n",
        "from tensorflow.keras.models import Model\n",
        "\n",
        "inputs = Input(shape=(3,))\n",
        "output = Dense(1, activation='linear')(inputs)\n",
        "linear_model = Model(inputs, output)\n",
        "\n",
        "linear_model.compile(optimizer='sgd', loss='mse')\n",
        "linear_model.fit(x=dat_test, y=y_cts_test, epochs=50, verbose=0)\n",
        "\n",
        "linear_model.fit(x=dat_test, y=y_cts_test, epochs=1, verbose=1)"
      ],
      "execution_count": 5,
      "outputs": [
        {
          "output_type": "error",
          "ename": "NameError",
          "evalue": "ignored",
          "traceback": [
            "\u001b[0;31m---------------------------------------------------------------------------\u001b[0m",
            "\u001b[0;31mNameError\u001b[0m                                 Traceback (most recent call last)",
            "\u001b[0;32m<ipython-input-5-13d46c58be88>\u001b[0m in \u001b[0;36m<module>\u001b[0;34m()\u001b[0m\n\u001b[1;32m      7\u001b[0m \u001b[0;34m\u001b[0m\u001b[0m\n\u001b[1;32m      8\u001b[0m \u001b[0mlinear_model\u001b[0m\u001b[0;34m.\u001b[0m\u001b[0mcompile\u001b[0m\u001b[0;34m(\u001b[0m\u001b[0moptimizer\u001b[0m\u001b[0;34m=\u001b[0m\u001b[0;34m'sgd'\u001b[0m\u001b[0;34m,\u001b[0m \u001b[0mloss\u001b[0m\u001b[0;34m=\u001b[0m\u001b[0;34m'mse'\u001b[0m\u001b[0;34m)\u001b[0m\u001b[0;34m\u001b[0m\u001b[0;34m\u001b[0m\u001b[0m\n\u001b[0;32m----> 9\u001b[0;31m \u001b[0mlinear_model\u001b[0m\u001b[0;34m.\u001b[0m\u001b[0mfit\u001b[0m\u001b[0;34m(\u001b[0m\u001b[0mx\u001b[0m\u001b[0;34m=\u001b[0m\u001b[0mdat_test\u001b[0m\u001b[0;34m,\u001b[0m \u001b[0my\u001b[0m\u001b[0;34m=\u001b[0m\u001b[0my_cts_test\u001b[0m\u001b[0;34m,\u001b[0m \u001b[0mepochs\u001b[0m\u001b[0;34m=\u001b[0m\u001b[0;36m50\u001b[0m\u001b[0;34m,\u001b[0m \u001b[0mverbose\u001b[0m\u001b[0;34m=\u001b[0m\u001b[0;36m0\u001b[0m\u001b[0;34m)\u001b[0m\u001b[0;34m\u001b[0m\u001b[0;34m\u001b[0m\u001b[0m\n\u001b[0m\u001b[1;32m     10\u001b[0m \u001b[0;34m\u001b[0m\u001b[0m\n\u001b[1;32m     11\u001b[0m \u001b[0mlinear_model\u001b[0m\u001b[0;34m.\u001b[0m\u001b[0mfit\u001b[0m\u001b[0;34m(\u001b[0m\u001b[0mx\u001b[0m\u001b[0;34m=\u001b[0m\u001b[0mdat_test\u001b[0m\u001b[0;34m,\u001b[0m \u001b[0my\u001b[0m\u001b[0;34m=\u001b[0m\u001b[0my_cts_test\u001b[0m\u001b[0;34m,\u001b[0m \u001b[0mepochs\u001b[0m\u001b[0;34m=\u001b[0m\u001b[0;36m1\u001b[0m\u001b[0;34m,\u001b[0m \u001b[0mverbose\u001b[0m\u001b[0;34m=\u001b[0m\u001b[0;36m1\u001b[0m\u001b[0;34m)\u001b[0m\u001b[0;34m\u001b[0m\u001b[0;34m\u001b[0m\u001b[0m\n",
            "\u001b[0;31mNameError\u001b[0m: name 'dat_test' is not defined"
          ]
        }
      ]
    },
    {
      "cell_type": "markdown",
      "metadata": {
        "id": "XEBw1wvQnRe4",
        "colab_type": "text"
      },
      "source": [
        "3) 로지스틱 회귀 (Logistic Regression)"
      ]
    },
    {
      "cell_type": "code",
      "metadata": {
        "id": "ijdSlG4vn7vQ",
        "colab_type": "code",
        "colab": {
          "base_uri": "https://localhost:8080/",
          "height": 203
        },
        "outputId": "f24b3d10-b8f2-47e7-84b9-eb544b446023"
      },
      "source": [
        "from tensorflow.keras.layers import Input, Dense\n",
        "from tensorflow.keras.models import Model\n",
        "\n",
        "inputs = Input(shape=(3,))\n",
        "output = Dense(1, activation='sigmoid')(inputs)\n",
        "logistic_model = Model(inputs, output)\n",
        "\n",
        "logistic_model.compile(optimizer='sgd', loss = 'binary_crossentropy', metrics=['accuracy'])\n",
        "logistic_model.optimizer.lr = 0.001\n",
        "logistic_model.fit(x=dat_train, y=y_classifier_train, epochs = 5, validation_data = (dat_test, y_classifier_test))"
      ],
      "execution_count": 6,
      "outputs": [
        {
          "output_type": "error",
          "ename": "NameError",
          "evalue": "ignored",
          "traceback": [
            "\u001b[0;31m---------------------------------------------------------------------------\u001b[0m",
            "\u001b[0;31mNameError\u001b[0m                                 Traceback (most recent call last)",
            "\u001b[0;32m<ipython-input-6-e5b9992d4501>\u001b[0m in \u001b[0;36m<module>\u001b[0;34m()\u001b[0m\n\u001b[1;32m      8\u001b[0m \u001b[0mlogistic_model\u001b[0m\u001b[0;34m.\u001b[0m\u001b[0mcompile\u001b[0m\u001b[0;34m(\u001b[0m\u001b[0moptimizer\u001b[0m\u001b[0;34m=\u001b[0m\u001b[0;34m'sgd'\u001b[0m\u001b[0;34m,\u001b[0m \u001b[0mloss\u001b[0m \u001b[0;34m=\u001b[0m \u001b[0;34m'binary_crossentropy'\u001b[0m\u001b[0;34m,\u001b[0m \u001b[0mmetrics\u001b[0m\u001b[0;34m=\u001b[0m\u001b[0;34m[\u001b[0m\u001b[0;34m'accuracy'\u001b[0m\u001b[0;34m]\u001b[0m\u001b[0;34m)\u001b[0m\u001b[0;34m\u001b[0m\u001b[0;34m\u001b[0m\u001b[0m\n\u001b[1;32m      9\u001b[0m \u001b[0mlogistic_model\u001b[0m\u001b[0;34m.\u001b[0m\u001b[0moptimizer\u001b[0m\u001b[0;34m.\u001b[0m\u001b[0mlr\u001b[0m \u001b[0;34m=\u001b[0m \u001b[0;36m0.001\u001b[0m\u001b[0;34m\u001b[0m\u001b[0;34m\u001b[0m\u001b[0m\n\u001b[0;32m---> 10\u001b[0;31m \u001b[0mlogistic_model\u001b[0m\u001b[0;34m.\u001b[0m\u001b[0mfit\u001b[0m\u001b[0;34m(\u001b[0m\u001b[0mx\u001b[0m\u001b[0;34m=\u001b[0m\u001b[0mdat_train\u001b[0m\u001b[0;34m,\u001b[0m \u001b[0my\u001b[0m\u001b[0;34m=\u001b[0m\u001b[0my_classifier_train\u001b[0m\u001b[0;34m,\u001b[0m \u001b[0mepochs\u001b[0m \u001b[0;34m=\u001b[0m \u001b[0;36m5\u001b[0m\u001b[0;34m,\u001b[0m \u001b[0mvalidation_data\u001b[0m \u001b[0;34m=\u001b[0m \u001b[0;34m(\u001b[0m\u001b[0mdat_test\u001b[0m\u001b[0;34m,\u001b[0m \u001b[0my_classifier_test\u001b[0m\u001b[0;34m)\u001b[0m\u001b[0;34m)\u001b[0m\u001b[0;34m\u001b[0m\u001b[0;34m\u001b[0m\u001b[0m\n\u001b[0m",
            "\u001b[0;31mNameError\u001b[0m: name 'dat_train' is not defined"
          ]
        }
      ]
    },
    {
      "cell_type": "markdown",
      "metadata": {
        "id": "unksw8yOn_mR",
        "colab_type": "text"
      },
      "source": [
        "# Linear Regression 과 Rogistic Regression\n",
        "\n",
        "손실함수 : MSE vs Cross Entropy 차이만 기억하자"
      ]
    },
    {
      "cell_type": "markdown",
      "metadata": {
        "id": "ARvZeQ0YoXNB",
        "colab_type": "text"
      },
      "source": [
        "4) 다중 입력, 다중 출력 모델"
      ]
    },
    {
      "cell_type": "code",
      "metadata": {
        "id": "rZR_2-AKoe9a",
        "colab_type": "code",
        "colab": {}
      },
      "source": [
        "from tensorflow.keras.layers import Input, Dense, concatenate\n",
        "from tensorflow.keras.models import Model\n",
        "\n",
        "# 두 개의 입력층을 정의\n",
        "inputA = Input(shape=(64,))\n",
        "inputB = Input(shape=(128,))\n",
        "\n",
        "# 첫번째 입력층으로부터 분기되어 진행되는 인공 신경망을 정의\n",
        "x = Dense(16, activation=\"relu\")(inputA)\n",
        "x = Dense(8, activation=\"relu\")(x)\n",
        "x = Model(inputs=inputA, outputs=x)\n",
        "\n",
        "# 두번째 입력층으로부터 분기되어 진행되는 인공 신경망을 정의\n",
        "y = Dense(64, activation=\"relu\")(inputB)\n",
        "y = Dense(32, activation=\"relu\")(y)\n",
        "y = Dense(8, activation=\"relu\")(y)\n",
        "y = Model(inputs=inputB, outputs=y)\n",
        "\n",
        "# 두개의 인공 신경망의 출력을 연결(concatenate)\n",
        "result = concatenate([x.output, y.output])\n",
        "\n",
        "# 연결된 값을 입력으로 받는 밀집층을 추가(Dense layer)\n",
        "z = Dense(2, activation=\"relu\")(result)\n",
        "# 선형 회귀를 위해 activation=linear를 설정\n",
        "z = Dense(1, activation=\"linear\")(z)\n",
        "\n",
        "# 결과적으로 이 모델은 두 개의 입력층으로부터 분기되어 진행된 후 마지막에는 하나의 출력을 예측하는 모델이 됨.\n",
        "model = Model(inputs=[x.input, y.input], outputs=z)"
      ],
      "execution_count": 0,
      "outputs": []
    },
    {
      "cell_type": "markdown",
      "metadata": {
        "id": "9XBj_DrDptG4",
        "colab_type": "text"
      },
      "source": [
        "5) RNN"
      ]
    },
    {
      "cell_type": "code",
      "metadata": {
        "id": "YctAFfPmpzPL",
        "colab_type": "code",
        "colab": {}
      },
      "source": [
        "from tensorflow.keras.layers import Input, Dense, LSTM\n",
        "from tensorflow.keras.models import Model\n",
        "\n",
        "inputs = Input(shape=(50,1))\n",
        "lstm_layer = LSTM(10)(inputs) # RNN의 일종인 LSTM 사용\n",
        "x = Dense(10, activation='relu')(lstm_layer)\n",
        "output = Dense(1, activation='sigmoid')(x)\n",
        "\n",
        "model = Model(inputs=inputs, outputs=output)"
      ],
      "execution_count": 0,
      "outputs": []
    }
  ]
}