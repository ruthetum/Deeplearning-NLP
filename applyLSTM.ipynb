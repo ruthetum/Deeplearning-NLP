{
  "nbformat": 4,
  "nbformat_minor": 0,
  "metadata": {
    "colab": {
      "name": "applyLSTM.ipynb",
      "provenance": [],
      "collapsed_sections": [],
      "authorship_tag": "ABX9TyPnkLcS/M8ev+qoEzJiOQ+o",
      "include_colab_link": true
    },
    "kernelspec": {
      "name": "python3",
      "display_name": "Python 3"
    },
    "accelerator": "GPU"
  },
  "cells": [
    {
      "cell_type": "markdown",
      "metadata": {
        "id": "view-in-github",
        "colab_type": "text"
      },
      "source": [
        "<a href=\"https://colab.research.google.com/github/ruthetum/Deeplearning-NLP/blob/master/applyLSTM.ipynb\" target=\"_parent\"><img src=\"https://colab.research.google.com/assets/colab-badge.svg\" alt=\"Open In Colab\"/></a>"
      ]
    },
    {
      "cell_type": "markdown",
      "metadata": {
        "id": "HnlrtMl6LnAx",
        "colab_type": "text"
      },
      "source": [
        "# LSTM을 이용하여 텍스트 생성하기\n",
        "\n",
        "data : https://www.kaggle.com/aashita/nyt-comments"
      ]
    },
    {
      "cell_type": "code",
      "metadata": {
        "id": "cF4sVc4GMNbL",
        "colab_type": "code",
        "colab": {}
      },
      "source": [
        "import pandas as pd\n",
        "from string import punctuation\n",
        "from tensorflow.keras.preprocessing.text import Tokenizer\n",
        "from tensorflow.keras.preprocessing.sequence import pad_sequences\n",
        "import numpy as np\n",
        "from tensorflow.keras.utils import to_categorical"
      ],
      "execution_count": 0,
      "outputs": []
    },
    {
      "cell_type": "code",
      "metadata": {
        "id": "06HnceoLMQKM",
        "colab_type": "code",
        "colab": {
          "base_uri": "https://localhost:8080/",
          "height": 124
        },
        "outputId": "a71d3539-2f4f-4225-d16f-f10758cf5933"
      },
      "source": [
        "from google.colab import drive\n",
        "drive.mount('/content/gdrive')"
      ],
      "execution_count": 2,
      "outputs": [
        {
          "output_type": "stream",
          "text": [
            "Go to this URL in a browser: https://accounts.google.com/o/oauth2/auth?client_id=947318989803-6bn6qk8qdgf4n4g3pfee6491hc0brc4i.apps.googleusercontent.com&redirect_uri=urn%3aietf%3awg%3aoauth%3a2.0%3aoob&response_type=code&scope=email%20https%3a%2f%2fwww.googleapis.com%2fauth%2fdocs.test%20https%3a%2f%2fwww.googleapis.com%2fauth%2fdrive%20https%3a%2f%2fwww.googleapis.com%2fauth%2fdrive.photos.readonly%20https%3a%2f%2fwww.googleapis.com%2fauth%2fpeopleapi.readonly\n",
            "\n",
            "Enter your authorization code:\n",
            "··········\n",
            "Mounted at /content/gdrive\n"
          ],
          "name": "stdout"
        }
      ]
    },
    {
      "cell_type": "markdown",
      "metadata": {
        "id": "KJ401W2uUIv8",
        "colab_type": "text"
      },
      "source": [
        "# 1) 데이터 전처리"
      ]
    },
    {
      "cell_type": "code",
      "metadata": {
        "id": "5EoKLXK3MlpU",
        "colab_type": "code",
        "colab": {
          "base_uri": "https://localhost:8080/",
          "height": 584
        },
        "outputId": "35e60032-f3ea-4161-e620-5734bd9d2710"
      },
      "source": [
        "data = pd.read_csv('gdrive/My Drive/Colab Notebooks/data/nyt-comments/ArticlesApril2018.csv', encoding='latin1')\n",
        "data.head()"
      ],
      "execution_count": 3,
      "outputs": [
        {
          "output_type": "execute_result",
          "data": {
            "text/html": [
              "<div>\n",
              "<style scoped>\n",
              "    .dataframe tbody tr th:only-of-type {\n",
              "        vertical-align: middle;\n",
              "    }\n",
              "\n",
              "    .dataframe tbody tr th {\n",
              "        vertical-align: top;\n",
              "    }\n",
              "\n",
              "    .dataframe thead th {\n",
              "        text-align: right;\n",
              "    }\n",
              "</style>\n",
              "<table border=\"1\" class=\"dataframe\">\n",
              "  <thead>\n",
              "    <tr style=\"text-align: right;\">\n",
              "      <th></th>\n",
              "      <th>articleID</th>\n",
              "      <th>articleWordCount</th>\n",
              "      <th>byline</th>\n",
              "      <th>documentType</th>\n",
              "      <th>headline</th>\n",
              "      <th>keywords</th>\n",
              "      <th>multimedia</th>\n",
              "      <th>newDesk</th>\n",
              "      <th>printPage</th>\n",
              "      <th>pubDate</th>\n",
              "      <th>sectionName</th>\n",
              "      <th>snippet</th>\n",
              "      <th>source</th>\n",
              "      <th>typeOfMaterial</th>\n",
              "      <th>webURL</th>\n",
              "    </tr>\n",
              "  </thead>\n",
              "  <tbody>\n",
              "    <tr>\n",
              "      <th>0</th>\n",
              "      <td>5adf6684068401528a2aa69b</td>\n",
              "      <td>781</td>\n",
              "      <td>By JOHN BRANCH</td>\n",
              "      <td>article</td>\n",
              "      <td>Former N.F.L. Cheerleadersâ Settlement Offer...</td>\n",
              "      <td>['Workplace Hazards and Violations', 'Football...</td>\n",
              "      <td>68</td>\n",
              "      <td>Sports</td>\n",
              "      <td>0</td>\n",
              "      <td>2018-04-24 17:16:49</td>\n",
              "      <td>Pro Football</td>\n",
              "      <td>âI understand that they could meet with us, ...</td>\n",
              "      <td>The New York Times</td>\n",
              "      <td>News</td>\n",
              "      <td>https://www.nytimes.com/2018/04/24/sports/foot...</td>\n",
              "    </tr>\n",
              "    <tr>\n",
              "      <th>1</th>\n",
              "      <td>5adf653f068401528a2aa697</td>\n",
              "      <td>656</td>\n",
              "      <td>By LISA FRIEDMAN</td>\n",
              "      <td>article</td>\n",
              "      <td>E.P.A. to Unveil a New Rule. Its Effect: Less ...</td>\n",
              "      <td>['Environmental Protection Agency', 'Pruitt, S...</td>\n",
              "      <td>68</td>\n",
              "      <td>Climate</td>\n",
              "      <td>0</td>\n",
              "      <td>2018-04-24 17:11:21</td>\n",
              "      <td>Unknown</td>\n",
              "      <td>The agency plans to publish a new regulation T...</td>\n",
              "      <td>The New York Times</td>\n",
              "      <td>News</td>\n",
              "      <td>https://www.nytimes.com/2018/04/24/climate/epa...</td>\n",
              "    </tr>\n",
              "    <tr>\n",
              "      <th>2</th>\n",
              "      <td>5adf4626068401528a2aa628</td>\n",
              "      <td>2427</td>\n",
              "      <td>By PETE WELLS</td>\n",
              "      <td>article</td>\n",
              "      <td>The New Noma, Explained</td>\n",
              "      <td>['Restaurants', 'Noma (Copenhagen, Restaurant)...</td>\n",
              "      <td>66</td>\n",
              "      <td>Dining</td>\n",
              "      <td>0</td>\n",
              "      <td>2018-04-24 14:58:44</td>\n",
              "      <td>Unknown</td>\n",
              "      <td>Whatâs it like to eat at the second incarnat...</td>\n",
              "      <td>The New York Times</td>\n",
              "      <td>News</td>\n",
              "      <td>https://www.nytimes.com/2018/04/24/dining/noma...</td>\n",
              "    </tr>\n",
              "    <tr>\n",
              "      <th>3</th>\n",
              "      <td>5adf40d2068401528a2aa619</td>\n",
              "      <td>626</td>\n",
              "      <td>By JULIE HIRSCHFELD DAVIS and PETER BAKER</td>\n",
              "      <td>article</td>\n",
              "      <td>Unknown</td>\n",
              "      <td>['Macron, Emmanuel (1977- )', 'Trump, Donald J...</td>\n",
              "      <td>68</td>\n",
              "      <td>Washington</td>\n",
              "      <td>0</td>\n",
              "      <td>2018-04-24 14:35:57</td>\n",
              "      <td>Europe</td>\n",
              "      <td>President Trump welcomed President Emmanuel Ma...</td>\n",
              "      <td>The New York Times</td>\n",
              "      <td>News</td>\n",
              "      <td>https://www.nytimes.com/2018/04/24/world/europ...</td>\n",
              "    </tr>\n",
              "    <tr>\n",
              "      <th>4</th>\n",
              "      <td>5adf3d64068401528a2aa60f</td>\n",
              "      <td>815</td>\n",
              "      <td>By IAN AUSTEN and DAN BILEFSKY</td>\n",
              "      <td>article</td>\n",
              "      <td>Unknown</td>\n",
              "      <td>['Toronto, Ontario, Attack (April, 2018)', 'Mu...</td>\n",
              "      <td>68</td>\n",
              "      <td>Foreign</td>\n",
              "      <td>0</td>\n",
              "      <td>2018-04-24 14:21:21</td>\n",
              "      <td>Canada</td>\n",
              "      <td>Alek Minassian, 25, a resident of Torontoâs ...</td>\n",
              "      <td>The New York Times</td>\n",
              "      <td>News</td>\n",
              "      <td>https://www.nytimes.com/2018/04/24/world/canad...</td>\n",
              "    </tr>\n",
              "  </tbody>\n",
              "</table>\n",
              "</div>"
            ],
            "text/plain": [
              "                  articleID  ...                                             webURL\n",
              "0  5adf6684068401528a2aa69b  ...  https://www.nytimes.com/2018/04/24/sports/foot...\n",
              "1  5adf653f068401528a2aa697  ...  https://www.nytimes.com/2018/04/24/climate/epa...\n",
              "2  5adf4626068401528a2aa628  ...  https://www.nytimes.com/2018/04/24/dining/noma...\n",
              "3  5adf40d2068401528a2aa619  ...  https://www.nytimes.com/2018/04/24/world/europ...\n",
              "4  5adf3d64068401528a2aa60f  ...  https://www.nytimes.com/2018/04/24/world/canad...\n",
              "\n",
              "[5 rows x 15 columns]"
            ]
          },
          "metadata": {
            "tags": []
          },
          "execution_count": 3
        }
      ]
    },
    {
      "cell_type": "code",
      "metadata": {
        "id": "db85lwywMvtH",
        "colab_type": "code",
        "colab": {
          "base_uri": "https://localhost:8080/",
          "height": 104
        },
        "outputId": "431c9858-7ad7-472f-ed0e-4d7ecce0d497"
      },
      "source": [
        "print('열의 개수: ',len(data.columns))\n",
        "print(data.columns)"
      ],
      "execution_count": 4,
      "outputs": [
        {
          "output_type": "stream",
          "text": [
            "열의 개수:  15\n",
            "Index(['articleID', 'articleWordCount', 'byline', 'documentType', 'headline',\n",
            "       'keywords', 'multimedia', 'newDesk', 'printPage', 'pubDate',\n",
            "       'sectionName', 'snippet', 'source', 'typeOfMaterial', 'webURL'],\n",
            "      dtype='object')\n"
          ],
          "name": "stdout"
        }
      ]
    },
    {
      "cell_type": "code",
      "metadata": {
        "id": "3ieygVK5OG38",
        "colab_type": "code",
        "colab": {
          "base_uri": "https://localhost:8080/",
          "height": 34
        },
        "outputId": "cf9af169-a171-4117-f384-7f5bb769ff02"
      },
      "source": [
        "data['headline'].isnull().values.any()"
      ],
      "execution_count": 5,
      "outputs": [
        {
          "output_type": "execute_result",
          "data": {
            "text/plain": [
              "False"
            ]
          },
          "metadata": {
            "tags": []
          },
          "execution_count": 5
        }
      ]
    },
    {
      "cell_type": "code",
      "metadata": {
        "id": "iu95Oe1uONjS",
        "colab_type": "code",
        "colab": {
          "base_uri": "https://localhost:8080/",
          "height": 104
        },
        "outputId": "75664862-50a5-4134-a1de-24a63ec4e977"
      },
      "source": [
        "headline = []\n",
        "# 헤드라인의 값들을 리스트로 저장\n",
        "headline.extend(list(data.headline.values))\n",
        "headline[:5]"
      ],
      "execution_count": 6,
      "outputs": [
        {
          "output_type": "execute_result",
          "data": {
            "text/plain": [
              "['Former N.F.L. Cheerleadersâ\\x80\\x99 Settlement Offer: $1 and a Meeting With Goodell',\n",
              " 'E.P.A. to Unveil a New Rule. Its Effect: Less Science in Policymaking.',\n",
              " 'The New Noma, Explained',\n",
              " 'Unknown',\n",
              " 'Unknown']"
            ]
          },
          "metadata": {
            "tags": []
          },
          "execution_count": 6
        }
      ]
    },
    {
      "cell_type": "code",
      "metadata": {
        "id": "vraaJ4tBOUsU",
        "colab_type": "code",
        "colab": {
          "base_uri": "https://localhost:8080/",
          "height": 34
        },
        "outputId": "c65340a1-dd80-4461-b9b2-d841dbd74a94"
      },
      "source": [
        "# 현재 샘플의 개수\n",
        "print('총 샘플의 개수 : {}'.format(len(headline)))"
      ],
      "execution_count": 7,
      "outputs": [
        {
          "output_type": "stream",
          "text": [
            "총 샘플의 개수 : 1324\n"
          ],
          "name": "stdout"
        }
      ]
    },
    {
      "cell_type": "code",
      "metadata": {
        "id": "gpXuw0SCOae-",
        "colab_type": "code",
        "colab": {
          "base_uri": "https://localhost:8080/",
          "height": 34
        },
        "outputId": "3efb5118-a165-4149-99b4-b5468a21f814"
      },
      "source": [
        "# 'Unknown'(노이즈 값) 제거\n",
        "headline = [n for n in headline if n != \"Unknown\"]\n",
        "print('노이즈값 제거 후 샘플의 개수 : {}'.format(len(headline)))"
      ],
      "execution_count": 8,
      "outputs": [
        {
          "output_type": "stream",
          "text": [
            "노이즈값 제거 후 샘플의 개수 : 1214\n"
          ],
          "name": "stdout"
        }
      ]
    },
    {
      "cell_type": "code",
      "metadata": {
        "id": "iSMWKM6YOwfW",
        "colab_type": "code",
        "colab": {
          "base_uri": "https://localhost:8080/",
          "height": 104
        },
        "outputId": "ed7b76de-e928-4643-8810-734a61b452b3"
      },
      "source": [
        "# Unknown 값 제거\n",
        "headline[:5]"
      ],
      "execution_count": 9,
      "outputs": [
        {
          "output_type": "execute_result",
          "data": {
            "text/plain": [
              "['Former N.F.L. Cheerleadersâ\\x80\\x99 Settlement Offer: $1 and a Meeting With Goodell',\n",
              " 'E.P.A. to Unveil a New Rule. Its Effect: Less Science in Policymaking.',\n",
              " 'The New Noma, Explained',\n",
              " 'How a Bag of Texas Dirt  Became a Times Tradition',\n",
              " 'Is School a Place for Self-Expression?']"
            ]
          },
          "metadata": {
            "tags": []
          },
          "execution_count": 9
        }
      ]
    },
    {
      "cell_type": "code",
      "metadata": {
        "id": "-AIJCsKjPLUI",
        "colab_type": "code",
        "colab": {
          "base_uri": "https://localhost:8080/",
          "height": 104
        },
        "outputId": "77ffe454-312a-496b-fd1f-08385b1d7c7e"
      },
      "source": [
        "# 구두점 제거, 소문자화\n",
        "def repreprocessing(s):\n",
        "    s=s.encode(\"utf8\").decode(\"ascii\",'ignore')\n",
        "    return ''.join(c for c in s if c not in punctuation).lower() # 구두점 제거와 동시에 소문자화\n",
        "\n",
        "text = [repreprocessing(x) for x in headline]\n",
        "text[:5]"
      ],
      "execution_count": 10,
      "outputs": [
        {
          "output_type": "execute_result",
          "data": {
            "text/plain": [
              "['former nfl cheerleaders settlement offer 1 and a meeting with goodell',\n",
              " 'epa to unveil a new rule its effect less science in policymaking',\n",
              " 'the new noma explained',\n",
              " 'how a bag of texas dirt  became a times tradition',\n",
              " 'is school a place for selfexpression']"
            ]
          },
          "metadata": {
            "tags": []
          },
          "execution_count": 10
        }
      ]
    },
    {
      "cell_type": "code",
      "metadata": {
        "id": "TgNxAIFtPULA",
        "colab_type": "code",
        "colab": {
          "base_uri": "https://localhost:8080/",
          "height": 34
        },
        "outputId": "319b8605-5035-4d5c-9881-23e0bff99445"
      },
      "source": [
        "# vocabulary 만들기\n",
        "t = Tokenizer()\n",
        "t.fit_on_texts(text)\n",
        "vocab_size = len(t.word_index) + 1\n",
        "print('단어 집합의 크기 : %d' % vocab_size)"
      ],
      "execution_count": 11,
      "outputs": [
        {
          "output_type": "stream",
          "text": [
            "단어 집합의 크기 : 3494\n"
          ],
          "name": "stdout"
        }
      ]
    },
    {
      "cell_type": "code",
      "metadata": {
        "id": "QEvpJEIQPhZr",
        "colab_type": "code",
        "colab": {
          "base_uri": "https://localhost:8080/",
          "height": 209
        },
        "outputId": "8f86e45d-daab-4ebd-c078-1da340b8c193"
      },
      "source": [
        "sequences = list()\n",
        "\n",
        "for line in text:\n",
        "    encoded = t.texts_to_sequences([line])[0]\n",
        "    for i in range(1, len(encoded)):\n",
        "        sequence = encoded[:i+1]\n",
        "        sequences.append(sequence)\n",
        "\n",
        "sequences[:11]"
      ],
      "execution_count": 12,
      "outputs": [
        {
          "output_type": "execute_result",
          "data": {
            "text/plain": [
              "[[99, 269],\n",
              " [99, 269, 371],\n",
              " [99, 269, 371, 1115],\n",
              " [99, 269, 371, 1115, 582],\n",
              " [99, 269, 371, 1115, 582, 52],\n",
              " [99, 269, 371, 1115, 582, 52, 7],\n",
              " [99, 269, 371, 1115, 582, 52, 7, 2],\n",
              " [99, 269, 371, 1115, 582, 52, 7, 2, 372],\n",
              " [99, 269, 371, 1115, 582, 52, 7, 2, 372, 10],\n",
              " [99, 269, 371, 1115, 582, 52, 7, 2, 372, 10, 1116],\n",
              " [100, 3]]"
            ]
          },
          "metadata": {
            "tags": []
          },
          "execution_count": 12
        }
      ]
    },
    {
      "cell_type": "code",
      "metadata": {
        "id": "qNan8OdxSzo2",
        "colab_type": "code",
        "colab": {
          "base_uri": "https://localhost:8080/",
          "height": 34
        },
        "outputId": "0059bc8c-eaa3-417a-b5c8-5d897ad81eb8"
      },
      "source": [
        "index_to_word={}\n",
        "for key, value in t.word_index.items():\n",
        "    index_to_word[value] = key\n",
        "\n",
        "print('빈도수 상위 582번 단어 : {}'.format(index_to_word[582]))"
      ],
      "execution_count": 13,
      "outputs": [
        {
          "output_type": "stream",
          "text": [
            "빈도수 상위 582번 단어 : offer\n"
          ],
          "name": "stdout"
        }
      ]
    },
    {
      "cell_type": "code",
      "metadata": {
        "id": "62NrmvWsTImm",
        "colab_type": "code",
        "colab": {
          "base_uri": "https://localhost:8080/",
          "height": 34
        },
        "outputId": "97b042a2-22d1-41e5-95d4-03fec18b0b02"
      },
      "source": [
        "max_len=max(len(l) for l in sequences)\n",
        "print('샘플의 최대 길이 : {}'.format(max_len))"
      ],
      "execution_count": 14,
      "outputs": [
        {
          "output_type": "stream",
          "text": [
            "샘플의 최대 길이 : 24\n"
          ],
          "name": "stdout"
        }
      ]
    },
    {
      "cell_type": "code",
      "metadata": {
        "id": "2xck_yMjTP7N",
        "colab_type": "code",
        "colab": {
          "base_uri": "https://localhost:8080/",
          "height": 122
        },
        "outputId": "f43d326a-715c-4b5e-b46c-d56b6348a64e"
      },
      "source": [
        "sequences = pad_sequences(sequences, maxlen=max_len, padding='pre')\n",
        "print(sequences[:3])"
      ],
      "execution_count": 15,
      "outputs": [
        {
          "output_type": "stream",
          "text": [
            "[[   0    0    0    0    0    0    0    0    0    0    0    0    0    0\n",
            "     0    0    0    0    0    0    0    0   99  269]\n",
            " [   0    0    0    0    0    0    0    0    0    0    0    0    0    0\n",
            "     0    0    0    0    0    0    0   99  269  371]\n",
            " [   0    0    0    0    0    0    0    0    0    0    0    0    0    0\n",
            "     0    0    0    0    0    0   99  269  371 1115]]\n"
          ],
          "name": "stdout"
        }
      ]
    },
    {
      "cell_type": "code",
      "metadata": {
        "id": "VTXkqz6eTY3z",
        "colab_type": "code",
        "colab": {
          "base_uri": "https://localhost:8080/",
          "height": 139
        },
        "outputId": "c5edeb07-9774-4dfa-8f50-f0db6e359cd3"
      },
      "source": [
        "# 맨 끝 단어 레이블로 분리하기\n",
        "sequences = np.array(sequences)\n",
        "X = sequences[:,:-1]\n",
        "y = sequences[:,-1]\n",
        "\n",
        "print(X[:3])\n",
        "print(y[:3])"
      ],
      "execution_count": 16,
      "outputs": [
        {
          "output_type": "stream",
          "text": [
            "[[  0   0   0   0   0   0   0   0   0   0   0   0   0   0   0   0   0   0\n",
            "    0   0   0   0  99]\n",
            " [  0   0   0   0   0   0   0   0   0   0   0   0   0   0   0   0   0   0\n",
            "    0   0   0  99 269]\n",
            " [  0   0   0   0   0   0   0   0   0   0   0   0   0   0   0   0   0   0\n",
            "    0   0  99 269 371]]\n",
            "[ 269  371 1115]\n"
          ],
          "name": "stdout"
        }
      ]
    },
    {
      "cell_type": "code",
      "metadata": {
        "id": "QTzNqFHqTe2S",
        "colab_type": "code",
        "colab": {
          "base_uri": "https://localhost:8080/",
          "height": 69
        },
        "outputId": "65e9412b-c22b-4899-d3f2-4879c7d97008"
      },
      "source": [
        "# 레이블 원-핫 인코딩\n",
        "y = to_categorical(y, num_classes=vocab_size)\n",
        "print(y[:3])"
      ],
      "execution_count": 17,
      "outputs": [
        {
          "output_type": "stream",
          "text": [
            "[[0. 0. 0. ... 0. 0. 0.]\n",
            " [0. 0. 0. ... 0. 0. 0.]\n",
            " [0. 0. 0. ... 0. 0. 0.]]\n"
          ],
          "name": "stdout"
        }
      ]
    },
    {
      "cell_type": "markdown",
      "metadata": {
        "id": "Feg6bRSITyXh",
        "colab_type": "text"
      },
      "source": [
        "# 2) 모델 설계"
      ]
    },
    {
      "cell_type": "code",
      "metadata": {
        "id": "6RUrUi4CUMXh",
        "colab_type": "code",
        "colab": {
          "base_uri": "https://localhost:8080/",
          "height": 1000
        },
        "outputId": "e9ea5b1f-259d-4923-f780-d81f022754f2"
      },
      "source": [
        "from tensorflow.keras.models import Sequential\n",
        "from tensorflow.keras.layers import Embedding, Dense, LSTM\n",
        "\n",
        "model = Sequential()\n",
        "# 맨 끝(레이블) 한 개 분리했으니까 max_len-1\n",
        "model.add(Embedding(vocab_size, 10, input_length=max_len-1))\n",
        "model.add(LSTM(128))\n",
        "model.add(Dense(vocab_size, activation='softmax'))\n",
        "model.compile(loss='categorical_crossentropy', optimizer='adam', metrics=['accuracy'])\n",
        "model.fit(X, y, epochs=200, verbose=2)"
      ],
      "execution_count": 18,
      "outputs": [
        {
          "output_type": "stream",
          "text": [
            "Epoch 1/200\n",
            "244/244 - 1s - loss: 7.6457 - accuracy: 0.0267\n",
            "Epoch 2/200\n",
            "244/244 - 1s - loss: 7.1158 - accuracy: 0.0300\n",
            "Epoch 3/200\n",
            "244/244 - 1s - loss: 6.9735 - accuracy: 0.0338\n",
            "Epoch 4/200\n",
            "244/244 - 1s - loss: 6.8412 - accuracy: 0.0414\n",
            "Epoch 5/200\n",
            "244/244 - 1s - loss: 6.6907 - accuracy: 0.0456\n",
            "Epoch 6/200\n",
            "244/244 - 1s - loss: 6.5159 - accuracy: 0.0486\n",
            "Epoch 7/200\n",
            "244/244 - 1s - loss: 6.3152 - accuracy: 0.0525\n",
            "Epoch 8/200\n",
            "244/244 - 1s - loss: 6.1098 - accuracy: 0.0595\n",
            "Epoch 9/200\n",
            "244/244 - 1s - loss: 5.9110 - accuracy: 0.0627\n",
            "Epoch 10/200\n",
            "244/244 - 1s - loss: 5.7250 - accuracy: 0.0657\n",
            "Epoch 11/200\n",
            "244/244 - 1s - loss: 5.5493 - accuracy: 0.0727\n",
            "Epoch 12/200\n",
            "244/244 - 1s - loss: 5.3843 - accuracy: 0.0756\n",
            "Epoch 13/200\n",
            "244/244 - 1s - loss: 5.2282 - accuracy: 0.0825\n",
            "Epoch 14/200\n",
            "244/244 - 1s - loss: 5.0787 - accuracy: 0.0886\n",
            "Epoch 15/200\n",
            "244/244 - 1s - loss: 4.9349 - accuracy: 0.0962\n",
            "Epoch 16/200\n",
            "244/244 - 1s - loss: 4.7988 - accuracy: 0.1065\n",
            "Epoch 17/200\n",
            "244/244 - 1s - loss: 4.6705 - accuracy: 0.1238\n",
            "Epoch 18/200\n",
            "244/244 - 1s - loss: 4.5424 - accuracy: 0.1349\n",
            "Epoch 19/200\n",
            "244/244 - 1s - loss: 4.4186 - accuracy: 0.1552\n",
            "Epoch 20/200\n",
            "244/244 - 1s - loss: 4.2954 - accuracy: 0.1639\n",
            "Epoch 21/200\n",
            "244/244 - 1s - loss: 4.1825 - accuracy: 0.1833\n",
            "Epoch 22/200\n",
            "244/244 - 1s - loss: 4.0684 - accuracy: 0.2009\n",
            "Epoch 23/200\n",
            "244/244 - 1s - loss: 3.9566 - accuracy: 0.2195\n",
            "Epoch 24/200\n",
            "244/244 - 1s - loss: 3.8520 - accuracy: 0.2326\n",
            "Epoch 25/200\n",
            "244/244 - 1s - loss: 3.7477 - accuracy: 0.2552\n",
            "Epoch 26/200\n",
            "244/244 - 1s - loss: 3.6463 - accuracy: 0.2725\n",
            "Epoch 27/200\n",
            "244/244 - 1s - loss: 3.5500 - accuracy: 0.2887\n",
            "Epoch 28/200\n",
            "244/244 - 1s - loss: 3.4557 - accuracy: 0.3046\n",
            "Epoch 29/200\n",
            "244/244 - 1s - loss: 3.3670 - accuracy: 0.3222\n",
            "Epoch 30/200\n",
            "244/244 - 1s - loss: 3.2783 - accuracy: 0.3396\n",
            "Epoch 31/200\n",
            "244/244 - 1s - loss: 3.1946 - accuracy: 0.3535\n",
            "Epoch 32/200\n",
            "244/244 - 1s - loss: 3.1139 - accuracy: 0.3682\n",
            "Epoch 33/200\n",
            "244/244 - 1s - loss: 3.0345 - accuracy: 0.3820\n",
            "Epoch 34/200\n",
            "244/244 - 1s - loss: 2.9617 - accuracy: 0.3959\n",
            "Epoch 35/200\n",
            "244/244 - 1s - loss: 2.8896 - accuracy: 0.4092\n",
            "Epoch 36/200\n",
            "244/244 - 1s - loss: 2.8184 - accuracy: 0.4246\n",
            "Epoch 37/200\n",
            "244/244 - 1s - loss: 2.7516 - accuracy: 0.4373\n",
            "Epoch 38/200\n",
            "244/244 - 1s - loss: 2.6840 - accuracy: 0.4484\n",
            "Epoch 39/200\n",
            "244/244 - 1s - loss: 2.6237 - accuracy: 0.4644\n",
            "Epoch 40/200\n",
            "244/244 - 1s - loss: 2.5637 - accuracy: 0.4762\n",
            "Epoch 41/200\n",
            "244/244 - 1s - loss: 2.5049 - accuracy: 0.4853\n",
            "Epoch 42/200\n",
            "244/244 - 1s - loss: 2.4450 - accuracy: 0.4985\n",
            "Epoch 43/200\n",
            "244/244 - 1s - loss: 2.3906 - accuracy: 0.5067\n",
            "Epoch 44/200\n",
            "244/244 - 1s - loss: 2.3350 - accuracy: 0.5190\n",
            "Epoch 45/200\n",
            "244/244 - 1s - loss: 2.2802 - accuracy: 0.5316\n",
            "Epoch 46/200\n",
            "244/244 - 1s - loss: 2.2320 - accuracy: 0.5431\n",
            "Epoch 47/200\n",
            "244/244 - 1s - loss: 2.1817 - accuracy: 0.5516\n",
            "Epoch 48/200\n",
            "244/244 - 1s - loss: 2.1334 - accuracy: 0.5612\n",
            "Epoch 49/200\n",
            "244/244 - 1s - loss: 2.0862 - accuracy: 0.5688\n",
            "Epoch 50/200\n",
            "244/244 - 1s - loss: 2.0376 - accuracy: 0.5785\n",
            "Epoch 51/200\n",
            "244/244 - 1s - loss: 1.9926 - accuracy: 0.5940\n",
            "Epoch 52/200\n",
            "244/244 - 1s - loss: 1.9483 - accuracy: 0.5998\n",
            "Epoch 53/200\n",
            "244/244 - 1s - loss: 1.9035 - accuracy: 0.6099\n",
            "Epoch 54/200\n",
            "244/244 - 1s - loss: 1.8630 - accuracy: 0.6198\n",
            "Epoch 55/200\n",
            "244/244 - 1s - loss: 1.8240 - accuracy: 0.6262\n",
            "Epoch 56/200\n",
            "244/244 - 1s - loss: 1.7794 - accuracy: 0.6376\n",
            "Epoch 57/200\n",
            "244/244 - 1s - loss: 1.7384 - accuracy: 0.6494\n",
            "Epoch 58/200\n",
            "244/244 - 1s - loss: 1.6983 - accuracy: 0.6578\n",
            "Epoch 59/200\n",
            "244/244 - 1s - loss: 1.6601 - accuracy: 0.6631\n",
            "Epoch 60/200\n",
            "244/244 - 1s - loss: 1.6245 - accuracy: 0.6694\n",
            "Epoch 61/200\n",
            "244/244 - 1s - loss: 1.5890 - accuracy: 0.6778\n",
            "Epoch 62/200\n",
            "244/244 - 1s - loss: 1.5515 - accuracy: 0.6860\n",
            "Epoch 63/200\n",
            "244/244 - 1s - loss: 1.5162 - accuracy: 0.6943\n",
            "Epoch 64/200\n",
            "244/244 - 1s - loss: 1.4804 - accuracy: 0.7004\n",
            "Epoch 65/200\n",
            "244/244 - 1s - loss: 1.4498 - accuracy: 0.7072\n",
            "Epoch 66/200\n",
            "244/244 - 1s - loss: 1.4152 - accuracy: 0.7161\n",
            "Epoch 67/200\n",
            "244/244 - 1s - loss: 1.3829 - accuracy: 0.7231\n",
            "Epoch 68/200\n",
            "244/244 - 1s - loss: 1.3519 - accuracy: 0.7315\n",
            "Epoch 69/200\n",
            "244/244 - 1s - loss: 1.3176 - accuracy: 0.7401\n",
            "Epoch 70/200\n",
            "244/244 - 1s - loss: 1.2853 - accuracy: 0.7461\n",
            "Epoch 71/200\n",
            "244/244 - 1s - loss: 1.2555 - accuracy: 0.7524\n",
            "Epoch 72/200\n",
            "244/244 - 1s - loss: 1.2279 - accuracy: 0.7564\n",
            "Epoch 73/200\n",
            "244/244 - 1s - loss: 1.1957 - accuracy: 0.7630\n",
            "Epoch 74/200\n",
            "244/244 - 1s - loss: 1.1694 - accuracy: 0.7700\n",
            "Epoch 75/200\n",
            "244/244 - 1s - loss: 1.1418 - accuracy: 0.7800\n",
            "Epoch 76/200\n",
            "244/244 - 1s - loss: 1.1163 - accuracy: 0.7797\n",
            "Epoch 77/200\n",
            "244/244 - 1s - loss: 1.0906 - accuracy: 0.7883\n",
            "Epoch 78/200\n",
            "244/244 - 1s - loss: 1.0629 - accuracy: 0.7912\n",
            "Epoch 79/200\n",
            "244/244 - 1s - loss: 1.0354 - accuracy: 0.7978\n",
            "Epoch 80/200\n",
            "244/244 - 1s - loss: 1.0149 - accuracy: 0.8026\n",
            "Epoch 81/200\n",
            "244/244 - 1s - loss: 0.9881 - accuracy: 0.8066\n",
            "Epoch 82/200\n",
            "244/244 - 1s - loss: 0.9643 - accuracy: 0.8102\n",
            "Epoch 83/200\n",
            "244/244 - 1s - loss: 0.9425 - accuracy: 0.8165\n",
            "Epoch 84/200\n",
            "244/244 - 1s - loss: 0.9217 - accuracy: 0.8229\n",
            "Epoch 85/200\n",
            "244/244 - 1s - loss: 0.8983 - accuracy: 0.8262\n",
            "Epoch 86/200\n",
            "244/244 - 1s - loss: 0.8784 - accuracy: 0.8267\n",
            "Epoch 87/200\n",
            "244/244 - 1s - loss: 0.8581 - accuracy: 0.8316\n",
            "Epoch 88/200\n",
            "244/244 - 1s - loss: 0.8364 - accuracy: 0.8360\n",
            "Epoch 89/200\n",
            "244/244 - 1s - loss: 0.8178 - accuracy: 0.8403\n",
            "Epoch 90/200\n",
            "244/244 - 1s - loss: 0.7977 - accuracy: 0.8447\n",
            "Epoch 91/200\n",
            "244/244 - 1s - loss: 0.7825 - accuracy: 0.8452\n",
            "Epoch 92/200\n",
            "244/244 - 1s - loss: 0.7630 - accuracy: 0.8493\n",
            "Epoch 93/200\n",
            "244/244 - 1s - loss: 0.7469 - accuracy: 0.8529\n",
            "Epoch 94/200\n",
            "244/244 - 1s - loss: 0.7308 - accuracy: 0.8561\n",
            "Epoch 95/200\n",
            "244/244 - 1s - loss: 0.7142 - accuracy: 0.8581\n",
            "Epoch 96/200\n",
            "244/244 - 1s - loss: 0.6982 - accuracy: 0.8626\n",
            "Epoch 97/200\n",
            "244/244 - 1s - loss: 0.6838 - accuracy: 0.8635\n",
            "Epoch 98/200\n",
            "244/244 - 1s - loss: 0.6699 - accuracy: 0.8662\n",
            "Epoch 99/200\n",
            "244/244 - 1s - loss: 0.6547 - accuracy: 0.8698\n",
            "Epoch 100/200\n",
            "244/244 - 1s - loss: 0.6398 - accuracy: 0.8706\n",
            "Epoch 101/200\n",
            "244/244 - 1s - loss: 0.6255 - accuracy: 0.8721\n",
            "Epoch 102/200\n",
            "244/244 - 1s - loss: 0.6131 - accuracy: 0.8775\n",
            "Epoch 103/200\n",
            "244/244 - 1s - loss: 0.6041 - accuracy: 0.8784\n",
            "Epoch 104/200\n",
            "244/244 - 1s - loss: 0.5903 - accuracy: 0.8803\n",
            "Epoch 105/200\n",
            "244/244 - 1s - loss: 0.5758 - accuracy: 0.8845\n",
            "Epoch 106/200\n",
            "244/244 - 1s - loss: 0.5657 - accuracy: 0.8838\n",
            "Epoch 107/200\n",
            "244/244 - 1s - loss: 0.5560 - accuracy: 0.8868\n",
            "Epoch 108/200\n",
            "244/244 - 1s - loss: 0.5422 - accuracy: 0.8863\n",
            "Epoch 109/200\n",
            "244/244 - 1s - loss: 0.5296 - accuracy: 0.8915\n",
            "Epoch 110/200\n",
            "244/244 - 1s - loss: 0.5209 - accuracy: 0.8918\n",
            "Epoch 111/200\n",
            "244/244 - 1s - loss: 0.5109 - accuracy: 0.8944\n",
            "Epoch 112/200\n",
            "244/244 - 1s - loss: 0.5019 - accuracy: 0.8967\n",
            "Epoch 113/200\n",
            "244/244 - 1s - loss: 0.4926 - accuracy: 0.8990\n",
            "Epoch 114/200\n",
            "244/244 - 1s - loss: 0.4811 - accuracy: 0.8993\n",
            "Epoch 115/200\n",
            "244/244 - 1s - loss: 0.4741 - accuracy: 0.9013\n",
            "Epoch 116/200\n",
            "244/244 - 1s - loss: 0.4686 - accuracy: 0.9013\n",
            "Epoch 117/200\n",
            "244/244 - 1s - loss: 0.4585 - accuracy: 0.9023\n",
            "Epoch 118/200\n",
            "244/244 - 1s - loss: 0.4494 - accuracy: 0.9038\n",
            "Epoch 119/200\n",
            "244/244 - 1s - loss: 0.4410 - accuracy: 0.9049\n",
            "Epoch 120/200\n",
            "244/244 - 1s - loss: 0.4334 - accuracy: 0.9068\n",
            "Epoch 121/200\n",
            "244/244 - 1s - loss: 0.4233 - accuracy: 0.9064\n",
            "Epoch 122/200\n",
            "244/244 - 1s - loss: 0.4245 - accuracy: 0.9073\n",
            "Epoch 123/200\n",
            "244/244 - 1s - loss: 0.4144 - accuracy: 0.9103\n",
            "Epoch 124/200\n",
            "244/244 - 1s - loss: 0.4110 - accuracy: 0.9100\n",
            "Epoch 125/200\n",
            "244/244 - 1s - loss: 0.4000 - accuracy: 0.9123\n",
            "Epoch 126/200\n",
            "244/244 - 1s - loss: 0.3962 - accuracy: 0.9102\n",
            "Epoch 127/200\n",
            "244/244 - 1s - loss: 0.3877 - accuracy: 0.9123\n",
            "Epoch 128/200\n",
            "244/244 - 1s - loss: 0.3844 - accuracy: 0.9132\n",
            "Epoch 129/200\n",
            "244/244 - 1s - loss: 0.3802 - accuracy: 0.9118\n",
            "Epoch 130/200\n",
            "244/244 - 1s - loss: 0.3735 - accuracy: 0.9118\n",
            "Epoch 131/200\n",
            "244/244 - 1s - loss: 0.3673 - accuracy: 0.9141\n",
            "Epoch 132/200\n",
            "244/244 - 1s - loss: 0.3638 - accuracy: 0.9131\n",
            "Epoch 133/200\n",
            "244/244 - 1s - loss: 0.3598 - accuracy: 0.9144\n",
            "Epoch 134/200\n",
            "244/244 - 1s - loss: 0.3545 - accuracy: 0.9148\n",
            "Epoch 135/200\n",
            "244/244 - 1s - loss: 0.3532 - accuracy: 0.9145\n",
            "Epoch 136/200\n",
            "244/244 - 1s - loss: 0.3473 - accuracy: 0.9140\n",
            "Epoch 137/200\n",
            "244/244 - 1s - loss: 0.3417 - accuracy: 0.9158\n",
            "Epoch 138/200\n",
            "244/244 - 1s - loss: 0.3405 - accuracy: 0.9144\n",
            "Epoch 139/200\n",
            "244/244 - 1s - loss: 0.3348 - accuracy: 0.9170\n",
            "Epoch 140/200\n",
            "244/244 - 1s - loss: 0.3317 - accuracy: 0.9158\n",
            "Epoch 141/200\n",
            "244/244 - 1s - loss: 0.3327 - accuracy: 0.9154\n",
            "Epoch 142/200\n",
            "244/244 - 1s - loss: 0.3249 - accuracy: 0.9161\n",
            "Epoch 143/200\n",
            "244/244 - 1s - loss: 0.3235 - accuracy: 0.9157\n",
            "Epoch 144/200\n",
            "244/244 - 1s - loss: 0.3209 - accuracy: 0.9177\n",
            "Epoch 145/200\n",
            "244/244 - 1s - loss: 0.3238 - accuracy: 0.9162\n",
            "Epoch 146/200\n",
            "244/244 - 1s - loss: 0.3217 - accuracy: 0.9141\n",
            "Epoch 147/200\n",
            "244/244 - 1s - loss: 0.3174 - accuracy: 0.9158\n",
            "Epoch 148/200\n",
            "244/244 - 1s - loss: 0.3105 - accuracy: 0.9167\n",
            "Epoch 149/200\n",
            "244/244 - 1s - loss: 0.3068 - accuracy: 0.9166\n",
            "Epoch 150/200\n",
            "244/244 - 1s - loss: 0.3061 - accuracy: 0.9166\n",
            "Epoch 151/200\n",
            "244/244 - 1s - loss: 0.3046 - accuracy: 0.9168\n",
            "Epoch 152/200\n",
            "244/244 - 1s - loss: 0.3021 - accuracy: 0.9162\n",
            "Epoch 153/200\n",
            "244/244 - 1s - loss: 0.3012 - accuracy: 0.9163\n",
            "Epoch 154/200\n",
            "244/244 - 1s - loss: 0.2979 - accuracy: 0.9158\n",
            "Epoch 155/200\n",
            "244/244 - 1s - loss: 0.2966 - accuracy: 0.9163\n",
            "Epoch 156/200\n",
            "244/244 - 1s - loss: 0.2929 - accuracy: 0.9184\n",
            "Epoch 157/200\n",
            "244/244 - 1s - loss: 0.3409 - accuracy: 0.9082\n",
            "Epoch 158/200\n",
            "244/244 - 1s - loss: 0.3278 - accuracy: 0.9144\n",
            "Epoch 159/200\n",
            "244/244 - 1s - loss: 0.2973 - accuracy: 0.9175\n",
            "Epoch 160/200\n",
            "244/244 - 1s - loss: 0.2918 - accuracy: 0.9161\n",
            "Epoch 161/200\n",
            "244/244 - 1s - loss: 0.2887 - accuracy: 0.9180\n",
            "Epoch 162/200\n",
            "244/244 - 1s - loss: 0.2874 - accuracy: 0.9164\n",
            "Epoch 163/200\n",
            "244/244 - 1s - loss: 0.2863 - accuracy: 0.9153\n",
            "Epoch 164/200\n",
            "244/244 - 1s - loss: 0.2843 - accuracy: 0.9167\n",
            "Epoch 165/200\n",
            "244/244 - 1s - loss: 0.2843 - accuracy: 0.9177\n",
            "Epoch 166/200\n",
            "244/244 - 1s - loss: 0.2828 - accuracy: 0.9164\n",
            "Epoch 167/200\n",
            "244/244 - 1s - loss: 0.2822 - accuracy: 0.9168\n",
            "Epoch 168/200\n",
            "244/244 - 1s - loss: 0.2793 - accuracy: 0.9186\n",
            "Epoch 169/200\n",
            "244/244 - 1s - loss: 0.2793 - accuracy: 0.9167\n",
            "Epoch 170/200\n",
            "244/244 - 1s - loss: 0.2833 - accuracy: 0.9161\n",
            "Epoch 171/200\n",
            "244/244 - 1s - loss: 0.3020 - accuracy: 0.9136\n",
            "Epoch 172/200\n",
            "244/244 - 1s - loss: 0.2916 - accuracy: 0.9153\n",
            "Epoch 173/200\n",
            "244/244 - 1s - loss: 0.2783 - accuracy: 0.9153\n",
            "Epoch 174/200\n",
            "244/244 - 1s - loss: 0.2748 - accuracy: 0.9173\n",
            "Epoch 175/200\n",
            "244/244 - 1s - loss: 0.2743 - accuracy: 0.9158\n",
            "Epoch 176/200\n",
            "244/244 - 1s - loss: 0.2723 - accuracy: 0.9185\n",
            "Epoch 177/200\n",
            "244/244 - 1s - loss: 0.2729 - accuracy: 0.9168\n",
            "Epoch 178/200\n",
            "244/244 - 1s - loss: 0.2734 - accuracy: 0.9161\n",
            "Epoch 179/200\n",
            "244/244 - 1s - loss: 0.2716 - accuracy: 0.9176\n",
            "Epoch 180/200\n",
            "244/244 - 1s - loss: 0.2717 - accuracy: 0.9158\n",
            "Epoch 181/200\n",
            "244/244 - 1s - loss: 0.2707 - accuracy: 0.9170\n",
            "Epoch 182/200\n",
            "244/244 - 1s - loss: 0.2696 - accuracy: 0.9179\n",
            "Epoch 183/200\n",
            "244/244 - 1s - loss: 0.2707 - accuracy: 0.9152\n",
            "Epoch 184/200\n",
            "244/244 - 1s - loss: 0.2698 - accuracy: 0.9158\n",
            "Epoch 185/200\n",
            "244/244 - 1s - loss: 0.2701 - accuracy: 0.9166\n",
            "Epoch 186/200\n",
            "244/244 - 1s - loss: 0.2689 - accuracy: 0.9166\n",
            "Epoch 187/200\n",
            "244/244 - 1s - loss: 0.2684 - accuracy: 0.9181\n",
            "Epoch 188/200\n",
            "244/244 - 1s - loss: 0.2907 - accuracy: 0.9131\n",
            "Epoch 189/200\n",
            "244/244 - 1s - loss: 0.2865 - accuracy: 0.9140\n",
            "Epoch 190/200\n",
            "244/244 - 1s - loss: 0.2691 - accuracy: 0.9167\n",
            "Epoch 191/200\n",
            "244/244 - 1s - loss: 0.2656 - accuracy: 0.9175\n",
            "Epoch 192/200\n",
            "244/244 - 1s - loss: 0.2647 - accuracy: 0.9170\n",
            "Epoch 193/200\n",
            "244/244 - 1s - loss: 0.2643 - accuracy: 0.9170\n",
            "Epoch 194/200\n",
            "244/244 - 1s - loss: 0.2638 - accuracy: 0.9173\n",
            "Epoch 195/200\n",
            "244/244 - 1s - loss: 0.2637 - accuracy: 0.9175\n",
            "Epoch 196/200\n",
            "244/244 - 1s - loss: 0.2639 - accuracy: 0.9171\n",
            "Epoch 197/200\n",
            "244/244 - 1s - loss: 0.2636 - accuracy: 0.9167\n",
            "Epoch 198/200\n",
            "244/244 - 1s - loss: 0.2628 - accuracy: 0.9154\n",
            "Epoch 199/200\n",
            "244/244 - 1s - loss: 0.2635 - accuracy: 0.9166\n",
            "Epoch 200/200\n",
            "244/244 - 1s - loss: 0.2638 - accuracy: 0.9179\n"
          ],
          "name": "stdout"
        },
        {
          "output_type": "execute_result",
          "data": {
            "text/plain": [
              "<tensorflow.python.keras.callbacks.History at 0x7ff9f053d668>"
            ]
          },
          "metadata": {
            "tags": []
          },
          "execution_count": 18
        }
      ]
    },
    {
      "cell_type": "code",
      "metadata": {
        "id": "noIEPmLDUacH",
        "colab_type": "code",
        "colab": {}
      },
      "source": [
        "# 모델, 토크나이저, 현재 단어, 반복할 횟수\n",
        "def sentence_generation(model, t, current_word, n):\n",
        "    \n",
        "    init_word = current_word\n",
        "    sentence = ''\n",
        "    \n",
        "    for _ in range(n):\n",
        "        # 현재 단어에 대한 정수 인코딩\n",
        "        encoded = t.texts_to_sequences([current_word])[0]\n",
        "        # 데이터 패딩\n",
        "        encoded = pad_sequences([encoded], maxlen=23, padding='pre')\n",
        "        # 입력한 X(현재 단어)에 대해서 y를 예측하고 y(예측한 단어)를 result에 저장.\n",
        "        result = model.predict_classes(encoded, verbose=0)\n",
        "        for word, index in t.word_index.items(): \n",
        "            if index == result:\n",
        "                break\n",
        "\n",
        "        current_word = current_word + ' '  + word\n",
        "        sentence = sentence + ' ' + word\n",
        "\n",
        "    sentence = init_word + sentence\n",
        "    return sentence"
      ],
      "execution_count": 0,
      "outputs": []
    },
    {
      "cell_type": "code",
      "metadata": {
        "id": "PW2O7vYJU6Xk",
        "colab_type": "code",
        "colab": {
          "base_uri": "https://localhost:8080/",
          "height": 107
        },
        "outputId": "9f873e88-6d78-41af-fe39-21fe9ef334bf"
      },
      "source": [
        "print(sentence_generation(model, t, 'i', 10))"
      ],
      "execution_count": 20,
      "outputs": [
        {
          "output_type": "stream",
          "text": [
            "WARNING:tensorflow:From <ipython-input-19-8494abf950fb>:12: Sequential.predict_classes (from tensorflow.python.keras.engine.sequential) is deprecated and will be removed after 2021-01-01.\n",
            "Instructions for updating:\n",
            "Please use instead:* `np.argmax(model.predict(x), axis=-1)`,   if your model does multi-class classification   (e.g. if it uses a `softmax` last-layer activation).* `(model.predict(x) > 0.5).astype(\"int32\")`,   if your model does binary classification   (e.g. if it uses a `sigmoid` last-layer activation).\n",
            "i disapprove of school vouchers can i still apply for them\n"
          ],
          "name": "stdout"
        }
      ]
    },
    {
      "cell_type": "code",
      "metadata": {
        "id": "miRrWb6aU6gR",
        "colab_type": "code",
        "colab": {
          "base_uri": "https://localhost:8080/",
          "height": 34
        },
        "outputId": "6a4ce620-deda-4f3c-fe00-d85fc39b9bb9"
      },
      "source": [
        "print(sentence_generation(model, t, 'how', 10))"
      ],
      "execution_count": 21,
      "outputs": [
        {
          "output_type": "stream",
          "text": [
            "how to make facebook more accountable trumps miserable i ill focus\n"
          ],
          "name": "stdout"
        }
      ]
    }
  ]
}