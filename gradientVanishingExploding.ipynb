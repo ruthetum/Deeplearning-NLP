{
  "nbformat": 4,
  "nbformat_minor": 0,
  "metadata": {
    "colab": {
      "name": "gradientVanishingExploding.ipynb",
      "provenance": [],
      "collapsed_sections": [],
      "authorship_tag": "ABX9TyPKXxZv/JkKpuvkfENFRwTy",
      "include_colab_link": true
    },
    "kernelspec": {
      "name": "python3",
      "display_name": "Python 3"
    }
  },
  "cells": [
    {
      "cell_type": "markdown",
      "metadata": {
        "id": "view-in-github",
        "colab_type": "text"
      },
      "source": [
        "<a href=\"https://colab.research.google.com/github/ruthetum/Deeplearning-NLP/blob/master/gradientVanishingExploding.ipynb\" target=\"_parent\"><img src=\"https://colab.research.google.com/assets/colab-badge.svg\" alt=\"Open In Colab\"/></a>"
      ]
    },
    {
      "cell_type": "markdown",
      "metadata": {
        "id": "nq4ksj7AxAWO",
        "colab_type": "text"
      },
      "source": [
        "# 기울기 소실(Gradient Vanishing)과 기울기 폭주(Gradient Exploding)\n",
        "\n",
        "기울기 소실과 기울기 폭주를 막는 방법\n",
        "\n",
        "# 1. ReLU와 ReLU 변형 함수\n",
        "* 시그모이드와 하이퍼볼릭탄젠트는 양 끝으로 갈수록 기울기가 0에 가까워짐\n",
        "* 따라서 은닉층에서는 ReLU 또는 Leaky ReLU를 사용\n",
        "\n",
        "# 2. 그래디언트 클리핑(Gradient Clipping)\n",
        "* 기울기 폭주를 막기 위해 임계값 설정"
      ]
    },
    {
      "cell_type": "code",
      "metadata": {
        "id": "KVoF5jrS3f1g",
        "colab_type": "code",
        "colab": {}
      },
      "source": [
        "from tensorflow.keras import optimizers\n",
        "Adam = optimizers.Adam(lr=0.0001, clipnorm=1.)"
      ],
      "execution_count": 0,
      "outputs": []
    },
    {
      "cell_type": "markdown",
      "metadata": {
        "id": "edvf6C-J3lWb",
        "colab_type": "text"
      },
      "source": [
        "# 3. 가중치 초기화\n",
        "\n",
        "# 4. 배치 초기화"
      ]
    }
  ]
}