{
  "nbformat": 4,
  "nbformat_minor": 0,
  "metadata": {
    "colab": {
      "name": "seq2seq.ipynb",
      "provenance": [],
      "collapsed_sections": [],
      "authorship_tag": "ABX9TyPiiIrp2n4fMtqgOZFvcPGD",
      "include_colab_link": true
    },
    "kernelspec": {
      "name": "python3",
      "display_name": "Python 3"
    }
  },
  "cells": [
    {
      "cell_type": "markdown",
      "metadata": {
        "id": "view-in-github",
        "colab_type": "text"
      },
      "source": [
        "<a href=\"https://colab.research.google.com/github/ruthetum/Deeplearning-NLP/blob/master/seq2seq.ipynb\" target=\"_parent\"><img src=\"https://colab.research.google.com/assets/colab-badge.svg\" alt=\"Open In Colab\"/></a>"
      ]
    },
    {
      "cell_type": "markdown",
      "metadata": {
        "id": "9r84TOJ_7pYB",
        "colab_type": "text"
      },
      "source": [
        "# Sequence to Sequnece 간단한 요약"
      ]
    },
    {
      "cell_type": "code",
      "metadata": {
        "id": "JTsDclLCmg9P",
        "colab_type": "code",
        "colab": {}
      },
      "source": [
        "model = Sequential()\n",
        "model.add(LSTM(..., input_shape=(...))) # 인코더\n",
        "model.add(RepeatVector(...))\n",
        "model.add(LSTM(..., return_sequences=True)) # 디코더\n",
        "model.add(TimeDistributed(Dense(...)))"
      ],
      "execution_count": 0,
      "outputs": []
    }
  ]
}