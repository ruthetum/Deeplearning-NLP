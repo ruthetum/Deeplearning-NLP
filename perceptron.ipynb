{
  "nbformat": 4,
  "nbformat_minor": 0,
  "metadata": {
    "colab": {
      "name": "perceptron.ipynb",
      "provenance": [],
      "collapsed_sections": [],
      "authorship_tag": "ABX9TyM/KS6N+SmMBa1kwZbOkEC9",
      "include_colab_link": true
    },
    "kernelspec": {
      "name": "python3",
      "display_name": "Python 3"
    }
  },
  "cells": [
    {
      "cell_type": "markdown",
      "metadata": {
        "id": "view-in-github",
        "colab_type": "text"
      },
      "source": [
        "<a href=\"https://colab.research.google.com/github/ruthetum/Deeplearning-NLP/blob/master/perceptron.ipynb\" target=\"_parent\"><img src=\"https://colab.research.google.com/assets/colab-badge.svg\" alt=\"Open In Colab\"/></a>"
      ]
    },
    {
      "cell_type": "markdown",
      "metadata": {
        "id": "CI9IDofOUUIn",
        "colab_type": "text"
      },
      "source": [
        "# 퍼셉트론"
      ]
    },
    {
      "cell_type": "markdown",
      "metadata": {
        "id": "VqsFFlHnUnTp",
        "colab_type": "text"
      },
      "source": [
        "AND 게이트 구현"
      ]
    },
    {
      "cell_type": "code",
      "metadata": {
        "id": "_yQrr7gmPT6H",
        "colab_type": "code",
        "colab": {}
      },
      "source": [
        "def AND_gate(x1, x2):\n",
        "    w1=0.5\n",
        "    w2=0.5\n",
        "    b=-0.7\n",
        "    result = x1*w1 + x2*w2 + b\n",
        "    if result <= 0:\n",
        "        return 0\n",
        "    else:\n",
        "        return 1"
      ],
      "execution_count": 0,
      "outputs": []
    },
    {
      "cell_type": "code",
      "metadata": {
        "id": "1Wq1qleqTsOk",
        "colab_type": "code",
        "colab": {
          "base_uri": "https://localhost:8080/",
          "height": 34
        },
        "outputId": "3bec92f6-3fa6-4037-eb6d-a242fcff2e2b"
      },
      "source": [
        "AND_gate(0, 0), AND_gate(0, 1), AND_gate(1, 0), AND_gate(1, 1)"
      ],
      "execution_count": 4,
      "outputs": [
        {
          "output_type": "execute_result",
          "data": {
            "text/plain": [
              "(0, 0, 0, 1)"
            ]
          },
          "metadata": {
            "tags": []
          },
          "execution_count": 4
        }
      ]
    },
    {
      "cell_type": "markdown",
      "metadata": {
        "id": "p-RjOv9ZUq0k",
        "colab_type": "text"
      },
      "source": [
        "OR 게이트 구현"
      ]
    },
    {
      "cell_type": "code",
      "metadata": {
        "id": "TfRYHh1SUq_k",
        "colab_type": "code",
        "colab": {}
      },
      "source": [
        "def OR_gate(x1, x2):\n",
        "    w1=0.6\n",
        "    w2=0.6\n",
        "    b=-0.5\n",
        "    result = x1*w1 + x2*w2 + b\n",
        "    if result <= 0:\n",
        "        return 0\n",
        "    else:\n",
        "        return 1"
      ],
      "execution_count": 0,
      "outputs": []
    },
    {
      "cell_type": "code",
      "metadata": {
        "id": "2MEefSaFUrKJ",
        "colab_type": "code",
        "colab": {
          "base_uri": "https://localhost:8080/",
          "height": 34
        },
        "outputId": "1f31758a-9c07-4cd3-a32f-08f8b7107013"
      },
      "source": [
        "OR_gate(0, 0), OR_gate(0, 1), OR_gate(1, 0), OR_gate(1, 1)"
      ],
      "execution_count": 6,
      "outputs": [
        {
          "output_type": "execute_result",
          "data": {
            "text/plain": [
              "(0, 1, 1, 1)"
            ]
          },
          "metadata": {
            "tags": []
          },
          "execution_count": 6
        }
      ]
    },
    {
      "cell_type": "markdown",
      "metadata": {
        "id": "mDIjygANVPx3",
        "colab_type": "text"
      },
      "source": [
        "NAND 게이트 구현"
      ]
    },
    {
      "cell_type": "code",
      "metadata": {
        "id": "YdGsR-XrVP9U",
        "colab_type": "code",
        "colab": {}
      },
      "source": [
        "def NAND_gate(x1, x2):\n",
        "    w1=-0.5\n",
        "    w2=-0.5\n",
        "    b=0.7\n",
        "    result = x1*w1 + x2*w2 + b\n",
        "    if result <= 0:\n",
        "        return 0\n",
        "    else:\n",
        "        return 1"
      ],
      "execution_count": 0,
      "outputs": []
    },
    {
      "cell_type": "code",
      "metadata": {
        "id": "o-7AQG_ZVQAM",
        "colab_type": "code",
        "colab": {
          "base_uri": "https://localhost:8080/",
          "height": 34
        },
        "outputId": "ba3f20a8-4160-4d59-894f-b69bb74900ef"
      },
      "source": [
        "NAND_gate(0, 0), NAND_gate(0, 1), NAND_gate(1, 0), NAND_gate(1, 1)"
      ],
      "execution_count": 8,
      "outputs": [
        {
          "output_type": "execute_result",
          "data": {
            "text/plain": [
              "(1, 1, 1, 0)"
            ]
          },
          "metadata": {
            "tags": []
          },
          "execution_count": 8
        }
      ]
    },
    {
      "cell_type": "markdown",
      "metadata": {
        "id": "IAbcKMizUaHp",
        "colab_type": "text"
      },
      "source": [
        "단층 퍼셉트론을 이용하면 AND, OR, NAND 게이트 구현 가능\n",
        "\n",
        "그러나 XOR 게이트 구현 불가\n",
        "\n",
        "XOR 구현할 때는 다층 퍼셉트론으로 구현"
      ]
    },
    {
      "cell_type": "code",
      "metadata": {
        "id": "YhBuCW6TT2z3",
        "colab_type": "code",
        "colab": {}
      },
      "source": [
        "def XOR_gate(x1, x2):\n",
        "  s1 = NAND_gate(x1, x2)\n",
        "  s2 = OR_gate(x1, x2)\n",
        "  return AND_gate(s1, s2)"
      ],
      "execution_count": 0,
      "outputs": []
    },
    {
      "cell_type": "code",
      "metadata": {
        "id": "KEsWq7fQWcoT",
        "colab_type": "code",
        "colab": {
          "base_uri": "https://localhost:8080/",
          "height": 34
        },
        "outputId": "b4f7be82-9d76-43df-9d26-0e038a714152"
      },
      "source": [
        "XOR_gate(0, 0), XOR_gate(0, 1), XOR_gate(1, 0), XOR_gate(1, 1)"
      ],
      "execution_count": 10,
      "outputs": [
        {
          "output_type": "execute_result",
          "data": {
            "text/plain": [
              "(0, 1, 1, 0)"
            ]
          },
          "metadata": {
            "tags": []
          },
          "execution_count": 10
        }
      ]
    },
    {
      "cell_type": "markdown",
      "metadata": {
        "id": "PRBuO9x6Wq3x",
        "colab_type": "text"
      },
      "source": [
        "여기서 s1, s2를 구하는 과정이 다층 퍼셉트론에서 은닉층(hidden layer)에 해당"
      ]
    }
  ]
}