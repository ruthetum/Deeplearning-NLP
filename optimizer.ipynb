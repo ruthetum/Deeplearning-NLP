{
  "nbformat": 4,
  "nbformat_minor": 0,
  "metadata": {
    "colab": {
      "name": "optimizer.ipynb",
      "provenance": [],
      "collapsed_sections": [],
      "authorship_tag": "ABX9TyMdxvU07QaHX7yIqCfKluK5",
      "include_colab_link": true
    },
    "kernelspec": {
      "name": "python3",
      "display_name": "Python 3"
    }
  },
  "cells": [
    {
      "cell_type": "markdown",
      "metadata": {
        "id": "view-in-github",
        "colab_type": "text"
      },
      "source": [
        "<a href=\"https://colab.research.google.com/github/ruthetum/Deeplearning-NLP/blob/master/optimizer.ipynb\" target=\"_parent\"><img src=\"https://colab.research.google.com/assets/colab-badge.svg\" alt=\"Open In Colab\"/></a>"
      ]
    },
    {
      "cell_type": "markdown",
      "metadata": {
        "id": "MTBf6H5ZrWmn",
        "colab_type": "text"
      },
      "source": [
        "# 옵티마이저 방법"
      ]
    },
    {
      "cell_type": "markdown",
      "metadata": {
        "id": "88QE1_EArdJO",
        "colab_type": "text"
      },
      "source": [
        "# 1. 배치 경사 하강법(Batch Gradient Descent)\n",
        "\n",
        "* 전체 데이터를 고려해서 학습\n",
        "* 에포크당 시간이 오래 걸림\n",
        "* 메모리 크게 요구\n",
        "* 글로벌 미니멈 찾을 수 있음"
      ]
    },
    {
      "cell_type": "code",
      "metadata": {
        "id": "Uz00XKy6qson",
        "colab_type": "code",
        "colab": {}
      },
      "source": [
        "model.fit(X_train, y_train, batch_size=len(trainX))"
      ],
      "execution_count": 0,
      "outputs": []
    },
    {
      "cell_type": "markdown",
      "metadata": {
        "id": "fBiRO9q_rd61",
        "colab_type": "text"
      },
      "source": [
        "# 2. 확률적 경사 하강법(Stochastic Gradient Descent, SGD)\n",
        "\n",
        "* 배치 경사 하강법이 시간이 너무 오래 걸림\n",
        "* 랜덤으로 선택한 하나의 데이터에 대해서만 계산\n",
        "* 적은 데이터를 사용하므로 빠르게 계산"
      ]
    },
    {
      "cell_type": "code",
      "metadata": {
        "id": "fOKPXLhwreCk",
        "colab_type": "code",
        "colab": {}
      },
      "source": [
        "model.fit(X_train, y_train, batch_size=1)"
      ],
      "execution_count": 0,
      "outputs": []
    },
    {
      "cell_type": "markdown",
      "metadata": {
        "id": "5ThN2apDreKk",
        "colab_type": "text"
      },
      "source": [
        "# 3. 미니 배치 경사 하강법(Mini-Batch Gradient Descent)\n",
        "* 전체 데이터도 아니고, 1도 아니고 배치 사이즈를 정해서 계산\n",
        "* 실제로 가장 많이 사용"
      ]
    },
    {
      "cell_type": "code",
      "metadata": {
        "id": "tLGfrm5_reQ3",
        "colab_type": "code",
        "colab": {}
      },
      "source": [
        "model.fit(X_train, y_train, batch_size=32) #32를 배치 크기로 하였을 경우"
      ],
      "execution_count": 0,
      "outputs": []
    },
    {
      "cell_type": "markdown",
      "metadata": {
        "id": "Whf4unTvreaJ",
        "colab_type": "text"
      },
      "source": [
        "# 4. 모멘텀(Momentum)\n",
        "\n",
        "* 관성 이용\n",
        "* 모멘텀 SGD의 경우 SGD에 의해 계산된 접선의 기울기에 한 시점(step) 전의 접선의 기울기값을 일정한 비율만큼 반영\n",
        "* 로컬 미니멈에 빠졌을 때 모멘텀에 의해 탈출 가능"
      ]
    },
    {
      "cell_type": "code",
      "metadata": {
        "id": "n_hjld-_refo",
        "colab_type": "code",
        "colab": {}
      },
      "source": [
        "keras.optimizers.SGD(lr = 0.01, momentum= 0.9)"
      ],
      "execution_count": 0,
      "outputs": []
    },
    {
      "cell_type": "markdown",
      "metadata": {
        "id": "tKlTDKSSrela",
        "colab_type": "text"
      },
      "source": [
        "# 5. 아다그라드(Adagrad)\n",
        "* 각 매개변수에 서로 다른 학습률을 적용\n",
        "* 변화가 많은 매개변수는 학습률이 작게 설정\n",
        "* 변화가 적은 매개변수는 학습률을 높게 설정"
      ]
    },
    {
      "cell_type": "code",
      "metadata": {
        "id": "IxXq9onFrequ",
        "colab_type": "code",
        "colab": {}
      },
      "source": [
        "keras.optimizers.Adagrad(lr=0.01, epsilon=1e-6)"
      ],
      "execution_count": 0,
      "outputs": []
    },
    {
      "cell_type": "markdown",
      "metadata": {
        "id": "AjNlrvB3rewQ",
        "colab_type": "text"
      },
      "source": [
        "# 6. 알엠에스프롭(RMSprop)\n",
        "\n",
        "* 아다그라드는 학습을 계속 진행한 경우 나중에 학습률이 지나치게 떨어짐\n",
        "* 이를 다른 수식으로 대체한 방법"
      ]
    },
    {
      "cell_type": "code",
      "metadata": {
        "id": "oDmnZf6gre1s",
        "colab_type": "code",
        "colab": {}
      },
      "source": [
        "keras.optimizers.RMSprop(lr=0.001, rho=0.9, epsilon=1e-06)"
      ],
      "execution_count": 0,
      "outputs": []
    },
    {
      "cell_type": "markdown",
      "metadata": {
        "id": "84ESyaH_re8f",
        "colab_type": "text"
      },
      "source": [
        "# 7. 아담(Adam)\n",
        "\n",
        "* RMSprop랑 모멘텀을 합친 방법"
      ]
    },
    {
      "cell_type": "code",
      "metadata": {
        "id": "1R4ft6hvrfBj",
        "colab_type": "code",
        "colab": {}
      },
      "source": [
        "keras.optimizers.Adam(lr=0.001, beta_1=0.9, beta_2=0.999, epsilon=None, decay=0.0, amsgrad=False)"
      ],
      "execution_count": 0,
      "outputs": []
    }
  ]
}