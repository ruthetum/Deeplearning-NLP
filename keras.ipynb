{
  "nbformat": 4,
  "nbformat_minor": 0,
  "metadata": {
    "colab": {
      "name": "keras.ipynb",
      "provenance": [],
      "collapsed_sections": [],
      "authorship_tag": "ABX9TyOWdaev3eMHK+IunzX5i4jo",
      "include_colab_link": true
    },
    "kernelspec": {
      "name": "python3",
      "display_name": "Python 3"
    }
  },
  "cells": [
    {
      "cell_type": "markdown",
      "metadata": {
        "id": "view-in-github",
        "colab_type": "text"
      },
      "source": [
        "<a href=\"https://colab.research.google.com/github/ruthetum/Deeplearning-NLP/blob/master/keras.ipynb\" target=\"_parent\"><img src=\"https://colab.research.google.com/assets/colab-badge.svg\" alt=\"Open In Colab\"/></a>"
      ]
    },
    {
      "cell_type": "markdown",
      "metadata": {
        "id": "6bul9v1i41MU",
        "colab_type": "text"
      },
      "source": [
        "# 케라스 훑어보기\n",
        "\n",
        "https://keras.io/"
      ]
    },
    {
      "cell_type": "code",
      "metadata": {
        "id": "KLI2d_L94i1X",
        "colab_type": "code",
        "colab": {
          "base_uri": "https://localhost:8080/",
          "height": 104
        },
        "outputId": "9278441e-2295-4d37-e47e-6de4e6321921"
      },
      "source": [
        "%tensorflow_version 2.x\n",
        "\n",
        "import tensorflow as tf\n",
        "\n",
        "print('version : ', tf.__version__)\n",
        "print('GPU Available : ', tf.test.is_gpu_available())"
      ],
      "execution_count": 1,
      "outputs": [
        {
          "output_type": "stream",
          "text": [
            "version :  2.2.0-rc1\n",
            "WARNING:tensorflow:From <ipython-input-1-a840f7824ccb>:6: is_gpu_available (from tensorflow.python.framework.test_util) is deprecated and will be removed in a future version.\n",
            "Instructions for updating:\n",
            "Use `tf.config.list_physical_devices('GPU')` instead.\n",
            "GPU Available :  False\n"
          ],
          "name": "stdout"
        }
      ]
    },
    {
      "cell_type": "markdown",
      "metadata": {
        "id": "IznyVR754962",
        "colab_type": "text"
      },
      "source": [
        "# 1. 전처리\n",
        "\n",
        "* Tokenizar : 토큰화와 정수 인코딩에 사용\n",
        "\n",
        "* pad_sequence : 샘플의 길이가 다를 때 일정하게 맞춰줌 (긴 거는 자르고 짧은 거는 0 으로 패딩)"
      ]
    },
    {
      "cell_type": "code",
      "metadata": {
        "id": "ediymJUg49uH",
        "colab_type": "code",
        "colab": {
          "base_uri": "https://localhost:8080/",
          "height": 52
        },
        "outputId": "7d40da4e-b25e-4ce6-d01e-709453a0b3df"
      },
      "source": [
        "from tensorflow.keras.preprocessing.text import Tokenizer\n",
        "\n",
        "t  = Tokenizer()\n",
        "fit_text = \"The earth is an awesome place live\"\n",
        "t.fit_on_texts([fit_text])\n",
        "\n",
        "test_text = \"The earth is an great place live\"\n",
        "sequences = t.texts_to_sequences([test_text])[0]\n",
        "\n",
        "print(\"sequences : \",sequences) # great는 단어 집합(vocabulary)에 없으므로 출력 X\n",
        "print(\"word_index : \",t.word_index) # 단어 집합(vocabulary) 출력"
      ],
      "execution_count": 2,
      "outputs": [
        {
          "output_type": "stream",
          "text": [
            "sequences :  [1, 2, 3, 4, 6, 7]\n",
            "word_index :  {'the': 1, 'earth': 2, 'is': 3, 'an': 4, 'awesome': 5, 'place': 6, 'live': 7}\n"
          ],
          "name": "stdout"
        }
      ]
    },
    {
      "cell_type": "code",
      "metadata": {
        "id": "0lC0ZuXv7x-g",
        "colab_type": "code",
        "colab": {
          "base_uri": "https://localhost:8080/",
          "height": 69
        },
        "outputId": "53caf2c2-ff7a-4bf8-abe3-a01ce01af37d"
      },
      "source": [
        "from tensorflow.keras.preprocessing.sequence import pad_sequences\n",
        "pad_sequences([[1, 2, 3], [3, 4, 5, 6], [7, 8]], maxlen=3, padding='pre')"
      ],
      "execution_count": 3,
      "outputs": [
        {
          "output_type": "execute_result",
          "data": {
            "text/plain": [
              "array([[1, 2, 3],\n",
              "       [4, 5, 6],\n",
              "       [0, 7, 8]], dtype=int32)"
            ]
          },
          "metadata": {
            "tags": []
          },
          "execution_count": 3
        }
      ]
    },
    {
      "cell_type": "markdown",
      "metadata": {
        "id": "6pAHsNrV8ON9",
        "colab_type": "text"
      },
      "source": [
        "# 2. 워드 임베딩\n",
        "텍스트 내의 단어들을 밀집 벡터로 만듬\n",
        "\n",
        "밀집 벡터(dense vector) : 원-핫 벡터의 반대, 고차원인 원-핫 벡터에 반해 저차원 벡터, 0과 1만 갖지 않고 실수값을 가짐\n",
        "\n",
        "* Embedding : 단어를 밀집 벡터로 만듬"
      ]
    },
    {
      "cell_type": "code",
      "metadata": {
        "id": "EHBj6rWo-KyT",
        "colab_type": "code",
        "colab": {}
      },
      "source": [
        "text=[['Hope', 'to', 'see', 'you', 'soon'],['Nice', 'to', 'see', 'you', 'again']]\n",
        "\n",
        "# 각 단어에 대한 정수 인코딩\n",
        "text=[[0, 1, 2, 3, 4],[5, 1, 2, 3, 6]]\n",
        "\n",
        "# 위 데이터가 아래의 임베딩 층의 입력\n",
        "Embedding(7, 2, input_length=5)\n",
        "# 7은 단어의 개수. 즉, 단어 집합(vocabulary)의 크기\n",
        "# 2는 임베딩한 후의 벡터의 크기\n",
        "# 5는 각 입력 시퀀스의 길이. 즉, input_length"
      ],
      "execution_count": 0,
      "outputs": []
    },
    {
      "cell_type": "markdown",
      "metadata": {
        "id": "Wt4Rs1xK-Lfa",
        "colab_type": "text"
      },
      "source": [
        "# 3. 모델링\n",
        "\n",
        "* Sequential\n",
        "* Dense : 층 추가,  model.add()를 통해 추가할 수 있음\n",
        "* summary : 모델 정보 요약"
      ]
    },
    {
      "cell_type": "code",
      "metadata": {
        "id": "OXq946jp-g5V",
        "colab_type": "code",
        "colab": {}
      },
      "source": [
        "from tensorflow.keras.models import Sequential\n",
        "model = Sequential()\n",
        "model.add(...) # 층 추가\n",
        "model.add(...) # 층 추가\n",
        "model.add(...) # 층 추가"
      ],
      "execution_count": 0,
      "outputs": []
    },
    {
      "cell_type": "code",
      "metadata": {
        "id": "l8V1R9wC-g8W",
        "colab_type": "code",
        "colab": {}
      },
      "source": [
        "# Embedding()을 통해 생성하는 임베딩 층(embedding layer) 또한 인공 신경망의 층의 하나이므로 model.add()로 추가\n",
        "from tensorflow.keras.models import Sequential\n",
        "model = Sequential()\n",
        "model.add(Embedding(vocabulary, output_dim, input_length))"
      ],
      "execution_count": 0,
      "outputs": []
    },
    {
      "cell_type": "code",
      "metadata": {
        "id": "xNv8U9KK-oNn",
        "colab_type": "code",
        "colab": {}
      },
      "source": [
        "from tensorflow.keras.models import Sequential\n",
        "from tensorflow.keras.layers import Dense\n",
        "model = Sequential()\n",
        "model.add(Dense(8, input_dim=4, activation='relu'))\n",
        "model.add(Dense(1, activation='sigmoid'))"
      ],
      "execution_count": 0,
      "outputs": []
    },
    {
      "cell_type": "code",
      "metadata": {
        "id": "k6w8DpgI-vSU",
        "colab_type": "code",
        "colab": {}
      },
      "source": [
        "model.summary()"
      ],
      "execution_count": 0,
      "outputs": []
    },
    {
      "cell_type": "markdown",
      "metadata": {
        "id": "mCbzwG7Y-6rU",
        "colab_type": "text"
      },
      "source": [
        "# 4. 컴파일과 훈련\n",
        "* compile : 모델을 기계가 이해할 수 있도록 컴파일\n",
        "* fit : 모델 학습"
      ]
    },
    {
      "cell_type": "code",
      "metadata": {
        "id": "QZd_tWj2_GAm",
        "colab_type": "code",
        "colab": {}
      },
      "source": [
        "from tensorflow.keras.layers import SimpleRNN, Embedding, Dense\n",
        "from tensorflow.keras.models import Sequential\n",
        "max_features = 10000\n",
        "\n",
        "model = Sequential()\n",
        "model.add(Embedding(max_features, 32))\n",
        "model.add(SimpleRNN(32))\n",
        "model.add(Dense(1, activation='sigmoid'))\n",
        "model.compile(optimizer='rmsprop', loss='binary_crossentropy', metrics=['acc'])"
      ],
      "execution_count": 0,
      "outputs": []
    },
    {
      "cell_type": "code",
      "metadata": {
        "id": "dnR6P2s2_GGS",
        "colab_type": "code",
        "colab": {}
      },
      "source": [
        "model.fit(X_train, y_train, epochs=10, batch_size=32)\n",
        "\n",
        "# validation 데이터 사용\n",
        "model.fit(X_train, y_train, epochs=10, batch_size=32, verbose=0, validation_data(X_val, y_val))\n",
        "\n",
        "# 훈련 데이터의 20%를 검증 데이터로 사용.\n",
        "model.fit(X_train, y_train, epochs=10, batch_size=32, verbose=0, validation_split=0.2))"
      ],
      "execution_count": 0,
      "outputs": []
    },
    {
      "cell_type": "markdown",
      "metadata": {
        "id": "El9iShAE_lxn",
        "colab_type": "text"
      },
      "source": [
        "verbose = 학습 중 출력되는 문구를 설정.\n",
        "- 0 : 아무 것도 출력 X\n",
        "- 1 : 훈련의 진행도를 보여주는 진행 막대를 보여줌\n",
        "- 2 : 미니 배치마다 손실 정보를 출력"
      ]
    },
    {
      "cell_type": "markdown",
      "metadata": {
        "id": "uDVE9OOG_sQx",
        "colab_type": "text"
      },
      "source": [
        "# 5. 평가와 예측\n",
        "\n",
        "* evaluate : 정확도 평가\n",
        "* predict : 입력에 대한 출력값 확인"
      ]
    },
    {
      "cell_type": "code",
      "metadata": {
        "id": "eAQIG81RAA9j",
        "colab_type": "code",
        "colab": {}
      },
      "source": [
        "model.evaluate(X_test, y_test, batch_size=32)"
      ],
      "execution_count": 0,
      "outputs": []
    },
    {
      "cell_type": "code",
      "metadata": {
        "id": "3AO88bdkABBk",
        "colab_type": "code",
        "colab": {}
      },
      "source": [
        "model.predict(X_input, batch_size=32)"
      ],
      "execution_count": 0,
      "outputs": []
    },
    {
      "cell_type": "markdown",
      "metadata": {
        "id": "zRQ1vwBDAFtg",
        "colab_type": "text"
      },
      "source": [
        "# 6. 저장(save)과 불러오기(load)\n",
        "\n",
        "- svae\n",
        "- load"
      ]
    },
    {
      "cell_type": "code",
      "metadata": {
        "id": "s-lRaPBbARD0",
        "colab_type": "code",
        "colab": {}
      },
      "source": [
        "model.save(\"model_name.h5\")\n",
        "\n",
        "from tensorflow.keras.models import load_model\n",
        "model = load_model(\"model_name.h5\")"
      ],
      "execution_count": 0,
      "outputs": []
    }
  ]
}