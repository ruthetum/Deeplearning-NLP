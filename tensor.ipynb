{
  "nbformat": 4,
  "nbformat_minor": 0,
  "metadata": {
    "colab": {
      "name": "tensor.ipynb",
      "provenance": [],
      "collapsed_sections": [],
      "authorship_tag": "ABX9TyMC+crvLtd5xzI5WGepr2qE",
      "include_colab_link": true
    },
    "kernelspec": {
      "name": "python3",
      "display_name": "Python 3"
    }
  },
  "cells": [
    {
      "cell_type": "markdown",
      "metadata": {
        "id": "view-in-github",
        "colab_type": "text"
      },
      "source": [
        "<a href=\"https://colab.research.google.com/github/ruthetum/Deeplearning-NLP/blob/master/tensor.ipynb\" target=\"_parent\"><img src=\"https://colab.research.google.com/assets/colab-badge.svg\" alt=\"Open In Colab\"/></a>"
      ]
    },
    {
      "cell_type": "markdown",
      "metadata": {
        "id": "OYLiJ5cHwwaa",
        "colab_type": "text"
      },
      "source": [
        "# Tensor\n",
        "\n",
        "벡터 : 1차원 배열 또는 리스트\n",
        "\n",
        "행렬 : 2차원 배열\n",
        "\n",
        "텐서 : 3차원 이상의 배열"
      ]
    },
    {
      "cell_type": "markdown",
      "metadata": {
        "id": "_NI9OhQoxuXE",
        "colab_type": "text"
      },
      "source": [
        "# 0차원 텐서\n",
        "\n",
        "출력값\n",
        "\n",
        "0 : 0차원\n",
        "\n",
        "( ) : 크기가 없음을 의미"
      ]
    },
    {
      "cell_type": "code",
      "metadata": {
        "id": "x-yQHu89xg0B",
        "colab_type": "code",
        "colab": {
          "base_uri": "https://localhost:8080/",
          "height": 55
        },
        "outputId": "3ee739c0-d28f-4216-bcc3-6c57941381b6"
      },
      "source": [
        "import numpy as np\n",
        "\n",
        "d=np.array(5)\n",
        "print(d.ndim) # 차원 수 출력\n",
        "print(d.shape) # 텐서의 크기 출력 "
      ],
      "execution_count": 2,
      "outputs": [
        {
          "output_type": "stream",
          "text": [
            "0\n",
            "()\n"
          ],
          "name": "stdout"
        }
      ]
    },
    {
      "cell_type": "markdown",
      "metadata": {
        "id": "tgvF-oMJx4wb",
        "colab_type": "text"
      },
      "source": [
        "# 1차원 텐서"
      ]
    },
    {
      "cell_type": "code",
      "metadata": {
        "id": "eA-e0msbx4GS",
        "colab_type": "code",
        "colab": {
          "base_uri": "https://localhost:8080/",
          "height": 55
        },
        "outputId": "9fc4303a-2e7e-4631-c53a-b13217533efb"
      },
      "source": [
        "d=np.array([1, 2, 3])\n",
        "print(d.ndim)\n",
        "print(d.shape)"
      ],
      "execution_count": 3,
      "outputs": [
        {
          "output_type": "stream",
          "text": [
            "1\n",
            "(3,)\n"
          ],
          "name": "stdout"
        }
      ]
    },
    {
      "cell_type": "markdown",
      "metadata": {
        "id": "H1g4HKhNyaFa",
        "colab_type": "text"
      },
      "source": [
        "# 2차원 텐서"
      ]
    },
    {
      "cell_type": "code",
      "metadata": {
        "id": "ASK-hyuQyNaO",
        "colab_type": "code",
        "colab": {
          "base_uri": "https://localhost:8080/",
          "height": 55
        },
        "outputId": "7a2b5eb3-8a74-4569-9060-661760f4882d"
      },
      "source": [
        "d=np.array([[1, 2, 3, 4], [5, 6, 7, 8], [9, 10, 11, 12]])\n",
        "print(d.ndim)\n",
        "print(d.shape)"
      ],
      "execution_count": 4,
      "outputs": [
        {
          "output_type": "stream",
          "text": [
            "2\n",
            "(3, 4)\n"
          ],
          "name": "stdout"
        }
      ]
    },
    {
      "cell_type": "markdown",
      "metadata": {
        "id": "1uLZs-iIyhWU",
        "colab_type": "text"
      },
      "source": [
        "# 3차원 텐서"
      ]
    },
    {
      "cell_type": "code",
      "metadata": {
        "id": "z0dz3AyzydsR",
        "colab_type": "code",
        "colab": {
          "base_uri": "https://localhost:8080/",
          "height": 55
        },
        "outputId": "7484c3af-e2eb-4878-a77c-3b6c3f9d21e7"
      },
      "source": [
        "d=np.array([\n",
        "            [[1, 2, 3, 4, 5], [6, 7, 8, 9, 10], [10, 11, 12, 13, 14]],\n",
        "            [[15, 16, 17, 18, 19], [19, 20, 21, 22, 23], [23, 24, 25, 26, 27]]\n",
        "            ])\n",
        "print(d.ndim)\n",
        "print(d.shape)"
      ],
      "execution_count": 5,
      "outputs": [
        {
          "output_type": "stream",
          "text": [
            "3\n",
            "(2, 3, 5)\n"
          ],
          "name": "stdout"
        }
      ]
    }
  ]
}