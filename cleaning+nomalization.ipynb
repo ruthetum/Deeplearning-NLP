{
  "nbformat": 4,
  "nbformat_minor": 0,
  "metadata": {
    "colab": {
      "name": "cleaning+nomalization.ipynb",
      "provenance": [],
      "collapsed_sections": [],
      "authorship_tag": "ABX9TyOR3W3aQEC+xf3gUwWMql3T",
      "include_colab_link": true
    },
    "kernelspec": {
      "name": "python3",
      "display_name": "Python 3"
    }
  },
  "cells": [
    {
      "cell_type": "markdown",
      "metadata": {
        "id": "view-in-github",
        "colab_type": "text"
      },
      "source": [
        "<a href=\"https://colab.research.google.com/github/ruthetum/Deeplearning-NLP/blob/master/cleaning%2Bnomalization.ipynb\" target=\"_parent\"><img src=\"https://colab.research.google.com/assets/colab-badge.svg\" alt=\"Open In Colab\"/></a>"
      ]
    },
    {
      "cell_type": "markdown",
      "metadata": {
        "id": "_kBjaAvpB0dN",
        "colab_type": "text"
      },
      "source": [
        ""
      ]
    },
    {
      "cell_type": "markdown",
      "metadata": {
        "id": "AgbbRD3HB127",
        "colab_type": "text"
      },
      "source": [
        "기본 세팅"
      ]
    },
    {
      "cell_type": "code",
      "metadata": {
        "id": "dVvHN9_-BteV",
        "colab_type": "code",
        "colab": {}
      },
      "source": [
        "import tensorflow.compat.v1 as tf\n",
        "tf.disable_v2_behavior()\n",
        "\n",
        "import nltk\n",
        "!pip install konlpy\n",
        "import konlpy"
      ],
      "execution_count": 0,
      "outputs": []
    },
    {
      "cell_type": "markdown",
      "metadata": {
        "id": "4magLg_vCkCJ",
        "colab_type": "text"
      },
      "source": [
        "# 정제(Cleaning)와 정규화(Nomalization)\n",
        "* 규칙에 기반한 표기가 다른 단어들의 통합\n",
        "Ex) USA = US, uh-huh = uhhuh\n",
        "\n",
        "* 대,소문자 통합\n",
        "Ex. 회사 이름, 사람 이름 or US(미국), us(우리)\n",
        "\n",
        "* 불필요한 단어 제거\n",
        "\n",
        "1)  등장 빈도가 적은 단어\n",
        "Ex) 스팸 메일을 분류할 때 스팸 메일 100,000개 중 5번 밖에 등장하지 않는 단어는 분류에 도움되지 않음\n",
        "\n",
        "2)  길이가 짧은 단어\n",
        "Ex) 영어에서 짧은 단어 at, to, on, in 같은 의미에 크게 지장을 주지 않음\n",
        "\n",
        "* 정규 표현식\n",
        "Ex) -\tHTML 같은 경우 태그들 제거해서 필요한 데이터만 수집할 수 있음.\n"
      ]
    },
    {
      "cell_type": "code",
      "metadata": {
        "id": "ZzF1bmUNDitQ",
        "colab_type": "code",
        "colab": {}
      },
      "source": [
        ""
      ],
      "execution_count": 0,
      "outputs": []
    },
    {
      "cell_type": "markdown",
      "metadata": {
        "id": "kYxNGRoFB4qD",
        "colab_type": "text"
      },
      "source": [
        "# 짧은 단어 제거\n",
        "보통 짧은 단어는 조사"
      ]
    },
    {
      "cell_type": "code",
      "metadata": {
        "id": "cFQmn57cCASb",
        "colab_type": "code",
        "outputId": "ac65ad7a-a429-415f-e22f-9ba12a03a381",
        "colab": {
          "base_uri": "https://localhost:8080/",
          "height": 36
        }
      },
      "source": [
        "import re\n",
        "text = \"I was wondering if anyone out there could enlighten me on this car.\"\n",
        "shortword = re.compile(r'\\W*\\b\\w{1,2}\\b')\n",
        "print(shortword.sub('', text))"
      ],
      "execution_count": 0,
      "outputs": [
        {
          "output_type": "stream",
          "text": [
            " was wondering anyone out there could enlighten this car.\n"
          ],
          "name": "stdout"
        }
      ]
    }
  ]
}